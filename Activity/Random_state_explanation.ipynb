{
 "cells": [
  {
   "cell_type": "code",
   "execution_count": 1,
   "id": "578ee93e-a531-42c3-abbb-dc418762b858",
   "metadata": {},
   "outputs": [],
   "source": [
    "import pandas as pd\n",
    "\n",
    "from sklearn.model_selection import train_test_split\n",
    "\n",
    "import joblib\n",
    "\n",
    "from sklearn.metrics import r2_score, mean_squared_error\n",
    "import math\n",
    "\n",
    "import numpy as np"
   ]
  },
  {
   "cell_type": "code",
   "execution_count": 2,
   "id": "7fe93fb1-02a0-48c3-a52c-60d502a327db",
   "metadata": {},
   "outputs": [],
   "source": [
    "def transform(target_val):\n",
    "    transformed = []\n",
    "    for element in target_val:\n",
    "        transformed.append(-1.0 * np.log10(element/1000000000))\n",
    "    return transformed\n",
    "\n",
    "def inverse_transform(transformed_values):\n",
    "    inversed = []\n",
    "    for element in transformed_values:\n",
    "        inversed.append(np.power(10,-element)*1000000000)\n",
    "    return inversed"
   ]
  },
  {
   "cell_type": "code",
   "execution_count": 3,
   "id": "d09919a3-bff8-4bad-9e0d-1411b20d82ff",
   "metadata": {},
   "outputs": [],
   "source": [
    "smiles_df = pd.read_excel('../Data/Kolchicyna_prepared_data.xlsx')"
   ]
  },
  {
   "cell_type": "code",
   "execution_count": 4,
   "id": "012a4995-a8b7-43da-ae14-133c6f4b1573",
   "metadata": {},
   "outputs": [
    {
     "data": {
      "text/html": [
       "<div>\n",
       "<style scoped>\n",
       "    .dataframe tbody tr th:only-of-type {\n",
       "        vertical-align: middle;\n",
       "    }\n",
       "\n",
       "    .dataframe tbody tr th {\n",
       "        vertical-align: top;\n",
       "    }\n",
       "\n",
       "    .dataframe thead th {\n",
       "        text-align: right;\n",
       "    }\n",
       "</style>\n",
       "<table border=\"1\" class=\"dataframe\">\n",
       "  <thead>\n",
       "    <tr style=\"text-align: right;\">\n",
       "      <th></th>\n",
       "      <th>Unnamed: 0</th>\n",
       "      <th>Publication DOI</th>\n",
       "      <th>Number of compound in publication</th>\n",
       "      <th>SMILES</th>\n",
       "      <th>Activity [nM]</th>\n",
       "      <th>A549</th>\n",
       "      <th>MCF-7</th>\n",
       "      <th>LoVo</th>\n",
       "      <th>LoVo/DX</th>\n",
       "      <th>BALB/3T3</th>\n",
       "      <th>A549_float</th>\n",
       "      <th>MCF-7_float</th>\n",
       "      <th>LoVo_float</th>\n",
       "      <th>LoVo/DX_float</th>\n",
       "      <th>BALB/3T3_float</th>\n",
       "    </tr>\n",
       "  </thead>\n",
       "  <tbody>\n",
       "    <tr>\n",
       "      <th>0</th>\n",
       "      <td>0</td>\n",
       "      <td>https://doi.org/10.1016/j.bmcl.2021.128382</td>\n",
       "      <td>1</td>\n",
       "      <td>COc2c3C1=CC=C(SC)C(=O)C=C1[C@H](CCc3cc(OC)c2OC...</td>\n",
       "      <td>Activity [nM]</td>\n",
       "      <td>10,8</td>\n",
       "      <td>10,3</td>\n",
       "      <td>6,5</td>\n",
       "      <td>54,9</td>\n",
       "      <td>10,2</td>\n",
       "      <td>10.8</td>\n",
       "      <td>10.3</td>\n",
       "      <td>6.5</td>\n",
       "      <td>54.9</td>\n",
       "      <td>10.2</td>\n",
       "    </tr>\n",
       "    <tr>\n",
       "      <th>1</th>\n",
       "      <td>1</td>\n",
       "      <td>https://doi.org/10.1016/j.bmcl.2021.128382</td>\n",
       "      <td>2</td>\n",
       "      <td>COc2c3C1=CC=C(SC)C(=O)C=C1[C@H](CCc3cc(OC)c2OC...</td>\n",
       "      <td>Activity [nM]</td>\n",
       "      <td>11,6</td>\n",
       "      <td>12,0</td>\n",
       "      <td>8,5</td>\n",
       "      <td>31.1</td>\n",
       "      <td>14.3</td>\n",
       "      <td>11.6</td>\n",
       "      <td>12.0</td>\n",
       "      <td>8.5</td>\n",
       "      <td>31.1</td>\n",
       "      <td>14.3</td>\n",
       "    </tr>\n",
       "    <tr>\n",
       "      <th>2</th>\n",
       "      <td>2</td>\n",
       "      <td>https://doi.org/10.1016/j.bmcl.2021.128382</td>\n",
       "      <td>3</td>\n",
       "      <td>COc2c3C1=CC=C(SC)C(=O)C=C1[C@H](CCc3cc(OC)c2OC...</td>\n",
       "      <td>Activity [nM]</td>\n",
       "      <td>10,9</td>\n",
       "      <td>12,2</td>\n",
       "      <td>8,8</td>\n",
       "      <td>17,9</td>\n",
       "      <td>11,7</td>\n",
       "      <td>10.9</td>\n",
       "      <td>12.2</td>\n",
       "      <td>8.8</td>\n",
       "      <td>17.9</td>\n",
       "      <td>11.7</td>\n",
       "    </tr>\n",
       "    <tr>\n",
       "      <th>3</th>\n",
       "      <td>3</td>\n",
       "      <td>https://doi.org/10.1016/j.bmcl.2021.128382</td>\n",
       "      <td>4</td>\n",
       "      <td>CC(C)CN[C@H]2CCc3cc(OC)c(OC)c(OC)c3C1=CC=C(SC)...</td>\n",
       "      <td>Activity [nM]</td>\n",
       "      <td>10,5</td>\n",
       "      <td>11,3</td>\n",
       "      <td>8,5</td>\n",
       "      <td>10,2</td>\n",
       "      <td>11,0</td>\n",
       "      <td>10.5</td>\n",
       "      <td>11.3</td>\n",
       "      <td>8.5</td>\n",
       "      <td>10.2</td>\n",
       "      <td>11.0</td>\n",
       "    </tr>\n",
       "    <tr>\n",
       "      <th>4</th>\n",
       "      <td>4</td>\n",
       "      <td>https://doi.org/10.1016/j.bmcl.2021.128382</td>\n",
       "      <td>5</td>\n",
       "      <td>COc2c3C1=CC=C(SC)C(=O)C=C1[C@H](CCc3cc(OC)c2OC...</td>\n",
       "      <td>Activity [nM]</td>\n",
       "      <td>89,5</td>\n",
       "      <td>92,7</td>\n",
       "      <td>52,8</td>\n",
       "      <td>77,8</td>\n",
       "      <td>99,4</td>\n",
       "      <td>89.5</td>\n",
       "      <td>92.7</td>\n",
       "      <td>52.8</td>\n",
       "      <td>77.8</td>\n",
       "      <td>99.4</td>\n",
       "    </tr>\n",
       "  </tbody>\n",
       "</table>\n",
       "</div>"
      ],
      "text/plain": [
       "   Unnamed: 0                             Publication DOI  \\\n",
       "0           0  https://doi.org/10.1016/j.bmcl.2021.128382   \n",
       "1           1  https://doi.org/10.1016/j.bmcl.2021.128382   \n",
       "2           2  https://doi.org/10.1016/j.bmcl.2021.128382   \n",
       "3           3  https://doi.org/10.1016/j.bmcl.2021.128382   \n",
       "4           4  https://doi.org/10.1016/j.bmcl.2021.128382   \n",
       "\n",
       "  Number of compound in publication  \\\n",
       "0                                 1   \n",
       "1                                 2   \n",
       "2                                 3   \n",
       "3                                 4   \n",
       "4                                 5   \n",
       "\n",
       "                                              SMILES  Activity [nM]   A549  \\\n",
       "0  COc2c3C1=CC=C(SC)C(=O)C=C1[C@H](CCc3cc(OC)c2OC...  Activity [nM]  10,8    \n",
       "1  COc2c3C1=CC=C(SC)C(=O)C=C1[C@H](CCc3cc(OC)c2OC...  Activity [nM]  11,6    \n",
       "2  COc2c3C1=CC=C(SC)C(=O)C=C1[C@H](CCc3cc(OC)c2OC...  Activity [nM]  10,9    \n",
       "3  CC(C)CN[C@H]2CCc3cc(OC)c(OC)c(OC)c3C1=CC=C(SC)...  Activity [nM]  10,5    \n",
       "4  COc2c3C1=CC=C(SC)C(=O)C=C1[C@H](CCc3cc(OC)c2OC...  Activity [nM]  89,5    \n",
       "\n",
       "   MCF-7   LoVo LoVo/DX BALB/3T3  A549_float  MCF-7_float  LoVo_float  \\\n",
       "0  10,3    6,5    54,9     10,2         10.8         10.3         6.5   \n",
       "1  12,0    8,5     31.1     14.3        11.6         12.0         8.5   \n",
       "2  12,2    8,8    17,9     11,7         10.9         12.2         8.8   \n",
       "3  11,3    8,5    10,2     11,0         10.5         11.3         8.5   \n",
       "4  92,7   52,8    77,8     99,4         89.5         92.7        52.8   \n",
       "\n",
       "   LoVo/DX_float  BALB/3T3_float  \n",
       "0           54.9            10.2  \n",
       "1           31.1            14.3  \n",
       "2           17.9            11.7  \n",
       "3           10.2            11.0  \n",
       "4           77.8            99.4  "
      ]
     },
     "execution_count": 4,
     "metadata": {},
     "output_type": "execute_result"
    }
   ],
   "source": [
    "smiles_df.head()"
   ]
  },
  {
   "cell_type": "code",
   "execution_count": 5,
   "id": "f7921b0c-8e7a-4922-bd28-64e7b71fe151",
   "metadata": {},
   "outputs": [],
   "source": [
    "molecular_descriptors = pd.read_excel('../Data/Kolchicyna_machine_learning.xlsx')"
   ]
  },
  {
   "cell_type": "code",
   "execution_count": 6,
   "id": "3e46fad3-c213-410d-8792-8a1bdd05acb0",
   "metadata": {},
   "outputs": [
    {
     "data": {
      "text/html": [
       "<div>\n",
       "<style scoped>\n",
       "    .dataframe tbody tr th:only-of-type {\n",
       "        vertical-align: middle;\n",
       "    }\n",
       "\n",
       "    .dataframe tbody tr th {\n",
       "        vertical-align: top;\n",
       "    }\n",
       "\n",
       "    .dataframe thead th {\n",
       "        text-align: right;\n",
       "    }\n",
       "</style>\n",
       "<table border=\"1\" class=\"dataframe\">\n",
       "  <thead>\n",
       "    <tr style=\"text-align: right;\">\n",
       "      <th></th>\n",
       "      <th>Unnamed: 0</th>\n",
       "      <th>AATS0Z</th>\n",
       "      <th>AATS0are</th>\n",
       "      <th>AATS0d</th>\n",
       "      <th>AATS0dv</th>\n",
       "      <th>AATS0i</th>\n",
       "      <th>AATS0m</th>\n",
       "      <th>AATS0p</th>\n",
       "      <th>AATS0pe</th>\n",
       "      <th>AATS0s</th>\n",
       "      <th>...</th>\n",
       "      <th>A549_float</th>\n",
       "      <th>MCF-7_float</th>\n",
       "      <th>LoVo_float</th>\n",
       "      <th>LoVo/DX_float</th>\n",
       "      <th>BALB/3T3_float</th>\n",
       "      <th>A549_float_transformed</th>\n",
       "      <th>MCF-7_float_transformed</th>\n",
       "      <th>LoVo_float_transformed</th>\n",
       "      <th>LoVo/DX_float_transformed</th>\n",
       "      <th>BALB/3T3_float_transformed</th>\n",
       "    </tr>\n",
       "  </thead>\n",
       "  <tbody>\n",
       "    <tr>\n",
       "      <th>0</th>\n",
       "      <td>0</td>\n",
       "      <td>25.090909</td>\n",
       "      <td>6.046518</td>\n",
       "      <td>3.109091</td>\n",
       "      <td>6.662626</td>\n",
       "      <td>160.775045</td>\n",
       "      <td>99.075564</td>\n",
       "      <td>1.555512</td>\n",
       "      <td>6.126680</td>\n",
       "      <td>3.435416</td>\n",
       "      <td>...</td>\n",
       "      <td>10.8</td>\n",
       "      <td>10.3</td>\n",
       "      <td>6.5</td>\n",
       "      <td>54.9</td>\n",
       "      <td>10.2</td>\n",
       "      <td>7.966576</td>\n",
       "      <td>7.987163</td>\n",
       "      <td>8.187087</td>\n",
       "      <td>7.260428</td>\n",
       "      <td>7.991400</td>\n",
       "    </tr>\n",
       "    <tr>\n",
       "      <th>1</th>\n",
       "      <td>1</td>\n",
       "      <td>24.448276</td>\n",
       "      <td>6.008422</td>\n",
       "      <td>3.051724</td>\n",
       "      <td>6.386973</td>\n",
       "      <td>161.021674</td>\n",
       "      <td>96.473315</td>\n",
       "      <td>1.538471</td>\n",
       "      <td>6.088791</td>\n",
       "      <td>3.330998</td>\n",
       "      <td>...</td>\n",
       "      <td>11.6</td>\n",
       "      <td>12.0</td>\n",
       "      <td>8.5</td>\n",
       "      <td>31.1</td>\n",
       "      <td>14.3</td>\n",
       "      <td>7.935542</td>\n",
       "      <td>7.920819</td>\n",
       "      <td>8.070581</td>\n",
       "      <td>7.507240</td>\n",
       "      <td>7.844664</td>\n",
       "    </tr>\n",
       "    <tr>\n",
       "      <th>2</th>\n",
       "      <td>2</td>\n",
       "      <td>23.868852</td>\n",
       "      <td>5.974074</td>\n",
       "      <td>3.000000</td>\n",
       "      <td>6.138434</td>\n",
       "      <td>161.244045</td>\n",
       "      <td>94.127025</td>\n",
       "      <td>1.523105</td>\n",
       "      <td>6.054630</td>\n",
       "      <td>3.236850</td>\n",
       "      <td>...</td>\n",
       "      <td>10.9</td>\n",
       "      <td>12.2</td>\n",
       "      <td>8.8</td>\n",
       "      <td>17.9</td>\n",
       "      <td>11.7</td>\n",
       "      <td>7.962574</td>\n",
       "      <td>7.913640</td>\n",
       "      <td>8.055517</td>\n",
       "      <td>7.747147</td>\n",
       "      <td>7.931814</td>\n",
       "    </tr>\n",
       "    <tr>\n",
       "      <th>3</th>\n",
       "      <td>3</td>\n",
       "      <td>23.868852</td>\n",
       "      <td>5.974074</td>\n",
       "      <td>3.032787</td>\n",
       "      <td>6.171220</td>\n",
       "      <td>161.244045</td>\n",
       "      <td>94.127025</td>\n",
       "      <td>1.523105</td>\n",
       "      <td>6.054630</td>\n",
       "      <td>3.257798</td>\n",
       "      <td>...</td>\n",
       "      <td>10.5</td>\n",
       "      <td>11.3</td>\n",
       "      <td>8.5</td>\n",
       "      <td>10.2</td>\n",
       "      <td>11.0</td>\n",
       "      <td>7.978811</td>\n",
       "      <td>7.946922</td>\n",
       "      <td>8.070581</td>\n",
       "      <td>7.991400</td>\n",
       "      <td>7.958607</td>\n",
       "    </tr>\n",
       "    <tr>\n",
       "      <th>4</th>\n",
       "      <td>4</td>\n",
       "      <td>23.343750</td>\n",
       "      <td>5.942945</td>\n",
       "      <td>2.953125</td>\n",
       "      <td>5.913194</td>\n",
       "      <td>161.445569</td>\n",
       "      <td>92.000700</td>\n",
       "      <td>1.509180</td>\n",
       "      <td>6.023670</td>\n",
       "      <td>3.151529</td>\n",
       "      <td>...</td>\n",
       "      <td>89.5</td>\n",
       "      <td>92.7</td>\n",
       "      <td>52.8</td>\n",
       "      <td>77.8</td>\n",
       "      <td>99.4</td>\n",
       "      <td>7.048177</td>\n",
       "      <td>7.032920</td>\n",
       "      <td>7.277366</td>\n",
       "      <td>7.109020</td>\n",
       "      <td>7.002614</td>\n",
       "    </tr>\n",
       "  </tbody>\n",
       "</table>\n",
       "<p>5 rows × 1222 columns</p>\n",
       "</div>"
      ],
      "text/plain": [
       "   Unnamed: 0     AATS0Z  AATS0are    AATS0d   AATS0dv      AATS0i     AATS0m  \\\n",
       "0           0  25.090909  6.046518  3.109091  6.662626  160.775045  99.075564   \n",
       "1           1  24.448276  6.008422  3.051724  6.386973  161.021674  96.473315   \n",
       "2           2  23.868852  5.974074  3.000000  6.138434  161.244045  94.127025   \n",
       "3           3  23.868852  5.974074  3.032787  6.171220  161.244045  94.127025   \n",
       "4           4  23.343750  5.942945  2.953125  5.913194  161.445569  92.000700   \n",
       "\n",
       "     AATS0p   AATS0pe    AATS0s  ...  A549_float  MCF-7_float  LoVo_float  \\\n",
       "0  1.555512  6.126680  3.435416  ...        10.8         10.3         6.5   \n",
       "1  1.538471  6.088791  3.330998  ...        11.6         12.0         8.5   \n",
       "2  1.523105  6.054630  3.236850  ...        10.9         12.2         8.8   \n",
       "3  1.523105  6.054630  3.257798  ...        10.5         11.3         8.5   \n",
       "4  1.509180  6.023670  3.151529  ...        89.5         92.7        52.8   \n",
       "\n",
       "   LoVo/DX_float  BALB/3T3_float  A549_float_transformed  \\\n",
       "0           54.9            10.2                7.966576   \n",
       "1           31.1            14.3                7.935542   \n",
       "2           17.9            11.7                7.962574   \n",
       "3           10.2            11.0                7.978811   \n",
       "4           77.8            99.4                7.048177   \n",
       "\n",
       "   MCF-7_float_transformed  LoVo_float_transformed  LoVo/DX_float_transformed  \\\n",
       "0                 7.987163                8.187087                   7.260428   \n",
       "1                 7.920819                8.070581                   7.507240   \n",
       "2                 7.913640                8.055517                   7.747147   \n",
       "3                 7.946922                8.070581                   7.991400   \n",
       "4                 7.032920                7.277366                   7.109020   \n",
       "\n",
       "   BALB/3T3_float_transformed  \n",
       "0                    7.991400  \n",
       "1                    7.844664  \n",
       "2                    7.931814  \n",
       "3                    7.958607  \n",
       "4                    7.002614  \n",
       "\n",
       "[5 rows x 1222 columns]"
      ]
     },
     "execution_count": 6,
     "metadata": {},
     "output_type": "execute_result"
    }
   ],
   "source": [
    "molecular_descriptors.head()"
   ]
  },
  {
   "cell_type": "code",
   "execution_count": 7,
   "id": "95fac502-4dd6-40a5-b9db-dcae20934e1d",
   "metadata": {},
   "outputs": [],
   "source": [
    "frames = [smiles_df['SMILES'], molecular_descriptors]\n",
    "res = pd.concat(frames, axis=1)\n",
    "res = res.drop(['Unnamed: 0'], axis=1)"
   ]
  },
  {
   "cell_type": "code",
   "execution_count": 8,
   "id": "5bdb6c87-accb-42c4-8d80-723a07ea3ebe",
   "metadata": {},
   "outputs": [
    {
     "data": {
      "text/html": [
       "<div>\n",
       "<style scoped>\n",
       "    .dataframe tbody tr th:only-of-type {\n",
       "        vertical-align: middle;\n",
       "    }\n",
       "\n",
       "    .dataframe tbody tr th {\n",
       "        vertical-align: top;\n",
       "    }\n",
       "\n",
       "    .dataframe thead th {\n",
       "        text-align: right;\n",
       "    }\n",
       "</style>\n",
       "<table border=\"1\" class=\"dataframe\">\n",
       "  <thead>\n",
       "    <tr style=\"text-align: right;\">\n",
       "      <th></th>\n",
       "      <th>SMILES</th>\n",
       "      <th>AATS0Z</th>\n",
       "      <th>AATS0are</th>\n",
       "      <th>AATS0d</th>\n",
       "      <th>AATS0dv</th>\n",
       "      <th>AATS0i</th>\n",
       "      <th>AATS0m</th>\n",
       "      <th>AATS0p</th>\n",
       "      <th>AATS0pe</th>\n",
       "      <th>AATS0s</th>\n",
       "      <th>...</th>\n",
       "      <th>A549_float</th>\n",
       "      <th>MCF-7_float</th>\n",
       "      <th>LoVo_float</th>\n",
       "      <th>LoVo/DX_float</th>\n",
       "      <th>BALB/3T3_float</th>\n",
       "      <th>A549_float_transformed</th>\n",
       "      <th>MCF-7_float_transformed</th>\n",
       "      <th>LoVo_float_transformed</th>\n",
       "      <th>LoVo/DX_float_transformed</th>\n",
       "      <th>BALB/3T3_float_transformed</th>\n",
       "    </tr>\n",
       "  </thead>\n",
       "  <tbody>\n",
       "    <tr>\n",
       "      <th>0</th>\n",
       "      <td>COc2c3C1=CC=C(SC)C(=O)C=C1[C@H](CCc3cc(OC)c2OC...</td>\n",
       "      <td>25.090909</td>\n",
       "      <td>6.046518</td>\n",
       "      <td>3.109091</td>\n",
       "      <td>6.662626</td>\n",
       "      <td>160.775045</td>\n",
       "      <td>99.075564</td>\n",
       "      <td>1.555512</td>\n",
       "      <td>6.126680</td>\n",
       "      <td>3.435416</td>\n",
       "      <td>...</td>\n",
       "      <td>10.8</td>\n",
       "      <td>10.3</td>\n",
       "      <td>6.5</td>\n",
       "      <td>54.9</td>\n",
       "      <td>10.2</td>\n",
       "      <td>7.966576</td>\n",
       "      <td>7.987163</td>\n",
       "      <td>8.187087</td>\n",
       "      <td>7.260428</td>\n",
       "      <td>7.991400</td>\n",
       "    </tr>\n",
       "    <tr>\n",
       "      <th>1</th>\n",
       "      <td>COc2c3C1=CC=C(SC)C(=O)C=C1[C@H](CCc3cc(OC)c2OC...</td>\n",
       "      <td>24.448276</td>\n",
       "      <td>6.008422</td>\n",
       "      <td>3.051724</td>\n",
       "      <td>6.386973</td>\n",
       "      <td>161.021674</td>\n",
       "      <td>96.473315</td>\n",
       "      <td>1.538471</td>\n",
       "      <td>6.088791</td>\n",
       "      <td>3.330998</td>\n",
       "      <td>...</td>\n",
       "      <td>11.6</td>\n",
       "      <td>12.0</td>\n",
       "      <td>8.5</td>\n",
       "      <td>31.1</td>\n",
       "      <td>14.3</td>\n",
       "      <td>7.935542</td>\n",
       "      <td>7.920819</td>\n",
       "      <td>8.070581</td>\n",
       "      <td>7.507240</td>\n",
       "      <td>7.844664</td>\n",
       "    </tr>\n",
       "    <tr>\n",
       "      <th>2</th>\n",
       "      <td>COc2c3C1=CC=C(SC)C(=O)C=C1[C@H](CCc3cc(OC)c2OC...</td>\n",
       "      <td>23.868852</td>\n",
       "      <td>5.974074</td>\n",
       "      <td>3.000000</td>\n",
       "      <td>6.138434</td>\n",
       "      <td>161.244045</td>\n",
       "      <td>94.127025</td>\n",
       "      <td>1.523105</td>\n",
       "      <td>6.054630</td>\n",
       "      <td>3.236850</td>\n",
       "      <td>...</td>\n",
       "      <td>10.9</td>\n",
       "      <td>12.2</td>\n",
       "      <td>8.8</td>\n",
       "      <td>17.9</td>\n",
       "      <td>11.7</td>\n",
       "      <td>7.962574</td>\n",
       "      <td>7.913640</td>\n",
       "      <td>8.055517</td>\n",
       "      <td>7.747147</td>\n",
       "      <td>7.931814</td>\n",
       "    </tr>\n",
       "    <tr>\n",
       "      <th>3</th>\n",
       "      <td>CC(C)CN[C@H]2CCc3cc(OC)c(OC)c(OC)c3C1=CC=C(SC)...</td>\n",
       "      <td>23.868852</td>\n",
       "      <td>5.974074</td>\n",
       "      <td>3.032787</td>\n",
       "      <td>6.171220</td>\n",
       "      <td>161.244045</td>\n",
       "      <td>94.127025</td>\n",
       "      <td>1.523105</td>\n",
       "      <td>6.054630</td>\n",
       "      <td>3.257798</td>\n",
       "      <td>...</td>\n",
       "      <td>10.5</td>\n",
       "      <td>11.3</td>\n",
       "      <td>8.5</td>\n",
       "      <td>10.2</td>\n",
       "      <td>11.0</td>\n",
       "      <td>7.978811</td>\n",
       "      <td>7.946922</td>\n",
       "      <td>8.070581</td>\n",
       "      <td>7.991400</td>\n",
       "      <td>7.958607</td>\n",
       "    </tr>\n",
       "    <tr>\n",
       "      <th>4</th>\n",
       "      <td>COc2c3C1=CC=C(SC)C(=O)C=C1[C@H](CCc3cc(OC)c2OC...</td>\n",
       "      <td>23.343750</td>\n",
       "      <td>5.942945</td>\n",
       "      <td>2.953125</td>\n",
       "      <td>5.913194</td>\n",
       "      <td>161.445569</td>\n",
       "      <td>92.000700</td>\n",
       "      <td>1.509180</td>\n",
       "      <td>6.023670</td>\n",
       "      <td>3.151529</td>\n",
       "      <td>...</td>\n",
       "      <td>89.5</td>\n",
       "      <td>92.7</td>\n",
       "      <td>52.8</td>\n",
       "      <td>77.8</td>\n",
       "      <td>99.4</td>\n",
       "      <td>7.048177</td>\n",
       "      <td>7.032920</td>\n",
       "      <td>7.277366</td>\n",
       "      <td>7.109020</td>\n",
       "      <td>7.002614</td>\n",
       "    </tr>\n",
       "    <tr>\n",
       "      <th>...</th>\n",
       "      <td>...</td>\n",
       "      <td>...</td>\n",
       "      <td>...</td>\n",
       "      <td>...</td>\n",
       "      <td>...</td>\n",
       "      <td>...</td>\n",
       "      <td>...</td>\n",
       "      <td>...</td>\n",
       "      <td>...</td>\n",
       "      <td>...</td>\n",
       "      <td>...</td>\n",
       "      <td>...</td>\n",
       "      <td>...</td>\n",
       "      <td>...</td>\n",
       "      <td>...</td>\n",
       "      <td>...</td>\n",
       "      <td>...</td>\n",
       "      <td>...</td>\n",
       "      <td>...</td>\n",
       "      <td>...</td>\n",
       "      <td>...</td>\n",
       "    </tr>\n",
       "    <tr>\n",
       "      <th>115</th>\n",
       "      <td>FC(F)(F)c1ccc(cc1)NC(=S)N[C@H]3CCc4cc(OC)c(OC)...</td>\n",
       "      <td>28.925373</td>\n",
       "      <td>6.629527</td>\n",
       "      <td>3.492537</td>\n",
       "      <td>9.558872</td>\n",
       "      <td>165.991839</td>\n",
       "      <td>116.283088</td>\n",
       "      <td>1.583312</td>\n",
       "      <td>6.669057</td>\n",
       "      <td>6.199313</td>\n",
       "      <td>...</td>\n",
       "      <td>86.0</td>\n",
       "      <td>120.0</td>\n",
       "      <td>54.0</td>\n",
       "      <td>2700.0</td>\n",
       "      <td>67.0</td>\n",
       "      <td>7.065502</td>\n",
       "      <td>6.920819</td>\n",
       "      <td>7.267606</td>\n",
       "      <td>5.568636</td>\n",
       "      <td>7.173925</td>\n",
       "    </tr>\n",
       "    <tr>\n",
       "      <th>116</th>\n",
       "      <td>O[C@@H](CNC(=S)N[C@H]2CCc3cc(OC)c(OC)c(OC)c3C1...</td>\n",
       "      <td>24.307692</td>\n",
       "      <td>6.247564</td>\n",
       "      <td>3.241758</td>\n",
       "      <td>7.235653</td>\n",
       "      <td>163.907908</td>\n",
       "      <td>95.896512</td>\n",
       "      <td>1.427144</td>\n",
       "      <td>6.299627</td>\n",
       "      <td>3.659034</td>\n",
       "      <td>...</td>\n",
       "      <td>70.0</td>\n",
       "      <td>15.0</td>\n",
       "      <td>32.0</td>\n",
       "      <td>5300.0</td>\n",
       "      <td>440.0</td>\n",
       "      <td>7.154902</td>\n",
       "      <td>7.823909</td>\n",
       "      <td>7.494850</td>\n",
       "      <td>5.275724</td>\n",
       "      <td>6.356547</td>\n",
       "    </tr>\n",
       "    <tr>\n",
       "      <th>117</th>\n",
       "      <td>OC[C@@H](O)[C@@H](O)[C@H](O)[C@@H](O)CNC(=S)N[...</td>\n",
       "      <td>25.818182</td>\n",
       "      <td>6.393614</td>\n",
       "      <td>3.103896</td>\n",
       "      <td>7.512266</td>\n",
       "      <td>164.617043</td>\n",
       "      <td>101.985317</td>\n",
       "      <td>1.423114</td>\n",
       "      <td>6.435469</td>\n",
       "      <td>5.205806</td>\n",
       "      <td>...</td>\n",
       "      <td>930.0</td>\n",
       "      <td>1200.0</td>\n",
       "      <td>680.0</td>\n",
       "      <td>6600.0</td>\n",
       "      <td>1300.0</td>\n",
       "      <td>6.031517</td>\n",
       "      <td>5.920819</td>\n",
       "      <td>6.167491</td>\n",
       "      <td>5.180456</td>\n",
       "      <td>5.886057</td>\n",
       "    </tr>\n",
       "    <tr>\n",
       "      <th>118</th>\n",
       "      <td>CC(C)(C)OC(=O)\\N=C(/NC(=O)OC(C)(C)C)N[C@H]2CCc...</td>\n",
       "      <td>21.952941</td>\n",
       "      <td>6.267407</td>\n",
       "      <td>3.105882</td>\n",
       "      <td>7.623529</td>\n",
       "      <td>165.008670</td>\n",
       "      <td>86.439890</td>\n",
       "      <td>1.354297</td>\n",
       "      <td>6.311679</td>\n",
       "      <td>4.432190</td>\n",
       "      <td>...</td>\n",
       "      <td>850.0</td>\n",
       "      <td>940.0</td>\n",
       "      <td>500.0</td>\n",
       "      <td>5900.0</td>\n",
       "      <td>690.0</td>\n",
       "      <td>6.070581</td>\n",
       "      <td>6.026872</td>\n",
       "      <td>6.301030</td>\n",
       "      <td>5.229148</td>\n",
       "      <td>6.161151</td>\n",
       "    </tr>\n",
       "    <tr>\n",
       "      <th>119</th>\n",
       "      <td>N=C(N)N[C@H]2CCc3cc(OC)c(OC)c(OC)c3C1=CC=C(NC)...</td>\n",
       "      <td>22.436364</td>\n",
       "      <td>6.250720</td>\n",
       "      <td>3.200000</td>\n",
       "      <td>7.600000</td>\n",
       "      <td>164.678288</td>\n",
       "      <td>88.447644</td>\n",
       "      <td>1.409812</td>\n",
       "      <td>6.303515</td>\n",
       "      <td>4.205556</td>\n",
       "      <td>...</td>\n",
       "      <td>740.0</td>\n",
       "      <td>760.0</td>\n",
       "      <td>920.0</td>\n",
       "      <td>86000.0</td>\n",
       "      <td>1800.0</td>\n",
       "      <td>6.130768</td>\n",
       "      <td>6.119186</td>\n",
       "      <td>6.036212</td>\n",
       "      <td>4.065502</td>\n",
       "      <td>5.744727</td>\n",
       "    </tr>\n",
       "  </tbody>\n",
       "</table>\n",
       "<p>120 rows × 1222 columns</p>\n",
       "</div>"
      ],
      "text/plain": [
       "                                                SMILES     AATS0Z  AATS0are  \\\n",
       "0    COc2c3C1=CC=C(SC)C(=O)C=C1[C@H](CCc3cc(OC)c2OC...  25.090909  6.046518   \n",
       "1    COc2c3C1=CC=C(SC)C(=O)C=C1[C@H](CCc3cc(OC)c2OC...  24.448276  6.008422   \n",
       "2    COc2c3C1=CC=C(SC)C(=O)C=C1[C@H](CCc3cc(OC)c2OC...  23.868852  5.974074   \n",
       "3    CC(C)CN[C@H]2CCc3cc(OC)c(OC)c(OC)c3C1=CC=C(SC)...  23.868852  5.974074   \n",
       "4    COc2c3C1=CC=C(SC)C(=O)C=C1[C@H](CCc3cc(OC)c2OC...  23.343750  5.942945   \n",
       "..                                                 ...        ...       ...   \n",
       "115  FC(F)(F)c1ccc(cc1)NC(=S)N[C@H]3CCc4cc(OC)c(OC)...  28.925373  6.629527   \n",
       "116  O[C@@H](CNC(=S)N[C@H]2CCc3cc(OC)c(OC)c(OC)c3C1...  24.307692  6.247564   \n",
       "117  OC[C@@H](O)[C@@H](O)[C@H](O)[C@@H](O)CNC(=S)N[...  25.818182  6.393614   \n",
       "118  CC(C)(C)OC(=O)\\N=C(/NC(=O)OC(C)(C)C)N[C@H]2CCc...  21.952941  6.267407   \n",
       "119  N=C(N)N[C@H]2CCc3cc(OC)c(OC)c(OC)c3C1=CC=C(NC)...  22.436364  6.250720   \n",
       "\n",
       "       AATS0d   AATS0dv      AATS0i      AATS0m    AATS0p   AATS0pe    AATS0s  \\\n",
       "0    3.109091  6.662626  160.775045   99.075564  1.555512  6.126680  3.435416   \n",
       "1    3.051724  6.386973  161.021674   96.473315  1.538471  6.088791  3.330998   \n",
       "2    3.000000  6.138434  161.244045   94.127025  1.523105  6.054630  3.236850   \n",
       "3    3.032787  6.171220  161.244045   94.127025  1.523105  6.054630  3.257798   \n",
       "4    2.953125  5.913194  161.445569   92.000700  1.509180  6.023670  3.151529   \n",
       "..        ...       ...         ...         ...       ...       ...       ...   \n",
       "115  3.492537  9.558872  165.991839  116.283088  1.583312  6.669057  6.199313   \n",
       "116  3.241758  7.235653  163.907908   95.896512  1.427144  6.299627  3.659034   \n",
       "117  3.103896  7.512266  164.617043  101.985317  1.423114  6.435469  5.205806   \n",
       "118  3.105882  7.623529  165.008670   86.439890  1.354297  6.311679  4.432190   \n",
       "119  3.200000  7.600000  164.678288   88.447644  1.409812  6.303515  4.205556   \n",
       "\n",
       "     ...  A549_float  MCF-7_float  LoVo_float  LoVo/DX_float  BALB/3T3_float  \\\n",
       "0    ...        10.8         10.3         6.5           54.9            10.2   \n",
       "1    ...        11.6         12.0         8.5           31.1            14.3   \n",
       "2    ...        10.9         12.2         8.8           17.9            11.7   \n",
       "3    ...        10.5         11.3         8.5           10.2            11.0   \n",
       "4    ...        89.5         92.7        52.8           77.8            99.4   \n",
       "..   ...         ...          ...         ...            ...             ...   \n",
       "115  ...        86.0        120.0        54.0         2700.0            67.0   \n",
       "116  ...        70.0         15.0        32.0         5300.0           440.0   \n",
       "117  ...       930.0       1200.0       680.0         6600.0          1300.0   \n",
       "118  ...       850.0        940.0       500.0         5900.0           690.0   \n",
       "119  ...       740.0        760.0       920.0        86000.0          1800.0   \n",
       "\n",
       "     A549_float_transformed  MCF-7_float_transformed  LoVo_float_transformed  \\\n",
       "0                  7.966576                 7.987163                8.187087   \n",
       "1                  7.935542                 7.920819                8.070581   \n",
       "2                  7.962574                 7.913640                8.055517   \n",
       "3                  7.978811                 7.946922                8.070581   \n",
       "4                  7.048177                 7.032920                7.277366   \n",
       "..                      ...                      ...                     ...   \n",
       "115                7.065502                 6.920819                7.267606   \n",
       "116                7.154902                 7.823909                7.494850   \n",
       "117                6.031517                 5.920819                6.167491   \n",
       "118                6.070581                 6.026872                6.301030   \n",
       "119                6.130768                 6.119186                6.036212   \n",
       "\n",
       "     LoVo/DX_float_transformed  BALB/3T3_float_transformed  \n",
       "0                     7.260428                    7.991400  \n",
       "1                     7.507240                    7.844664  \n",
       "2                     7.747147                    7.931814  \n",
       "3                     7.991400                    7.958607  \n",
       "4                     7.109020                    7.002614  \n",
       "..                         ...                         ...  \n",
       "115                   5.568636                    7.173925  \n",
       "116                   5.275724                    6.356547  \n",
       "117                   5.180456                    5.886057  \n",
       "118                   5.229148                    6.161151  \n",
       "119                   4.065502                    5.744727  \n",
       "\n",
       "[120 rows x 1222 columns]"
      ]
     },
     "execution_count": 8,
     "metadata": {},
     "output_type": "execute_result"
    }
   ],
   "source": [
    "res"
   ]
  },
  {
   "cell_type": "code",
   "execution_count": 9,
   "id": "8dd35b3b-b45a-4c1e-ba92-2352a6ecc816",
   "metadata": {},
   "outputs": [],
   "source": [
    "## load models\n",
    "model_A549 = joblib.load('Random_forest/random_forest_model_17_estimators_A549.joblib') #Random state 15\n",
    "model_BALB3_t3 = joblib.load('Random_forest/random_forest_model_19_estimators_BALB_3T3.joblib') #Random state 42\n",
    "model_LoVo_DX = joblib.load('Random_forest/random_forest_model_14_estimators_LoVo_DX.joblib') #Random state 28\n",
    "model_LoVo = joblib.load('Random_forest/random_forest_model_18_estimators_LoVo.joblib') #Random state 42\n",
    "model_MCF_7 = joblib.load('Random_forest/random_forest_model_3_estimators_MCF-7.joblib') #Random state 15"
   ]
  },
  {
   "cell_type": "markdown",
   "id": "47fc1990-d73c-4420-b907-9c5ffa635592",
   "metadata": {},
   "source": [
    "# Construct a dataframe for each Random Seed and predict values, additionally calculate R score and RMSE..."
   ]
  },
  {
   "cell_type": "markdown",
   "id": "cd57e184-c25e-4cd5-ab48-163ba5a87192",
   "metadata": {},
   "source": [
    "## A549"
   ]
  },
  {
   "cell_type": "code",
   "execution_count": 10,
   "id": "04407ae8-dd77-4a75-a656-8e005d1fac54",
   "metadata": {},
   "outputs": [
    {
     "data": {
      "text/plain": [
       "['AMID_O', 'EState_VSA5', 'MDEO-12', 'SaasC', 'VSA_EState5']"
      ]
     },
     "execution_count": 10,
     "metadata": {},
     "output_type": "execute_result"
    }
   ],
   "source": [
    "list(model_A549.feature_names_in_)"
   ]
  },
  {
   "cell_type": "code",
   "execution_count": 11,
   "id": "ad43d305-bf9e-4caf-9e83-705a0a77d784",
   "metadata": {},
   "outputs": [
    {
     "data": {
      "text/plain": [
       "Index(['SMILES', 'AATS0Z', 'AATS0are', 'AATS0d', 'AATS0dv', 'AATS0i', 'AATS0m',\n",
       "       'AATS0p', 'AATS0pe', 'AATS0s',\n",
       "       ...\n",
       "       'piPC10', 'piPC2', 'piPC3', 'piPC4', 'piPC5', 'piPC6', 'piPC7', 'piPC8',\n",
       "       'piPC9', 'A549_float'],\n",
       "      dtype='object', length=1213)"
      ]
     },
     "execution_count": 11,
     "metadata": {},
     "output_type": "execute_result"
    }
   ],
   "source": [
    "res.columns[0:-9]"
   ]
  },
  {
   "cell_type": "code",
   "execution_count": 12,
   "id": "ab04dbbd-a126-4a1e-a711-2753a9c7cd8e",
   "metadata": {},
   "outputs": [
    {
     "name": "stdout",
     "output_type": "stream",
     "text": [
      "Train R score: 0.960591935079034\n",
      "Test R score: 0.8620618597285548\n",
      "Train RMSE score: 0.2594924364766403\n",
      "Test RMSE score: 0.5253556041537444\n"
     ]
    }
   ],
   "source": [
    "X_train, X_test, y_train, y_test = train_test_split(res[res.columns[0:-9]], \n",
    "                                                        res['A549_float_transformed'], \n",
    "                                                        test_size=0.15, random_state=15)\n",
    "\n",
    "X_train['predicted A549 transformed IC50'] = model_A549.predict(X_train[list(model_A549.feature_names_in_)])\n",
    "X_train['observed A549 transformed IC50'] = y_train\n",
    "X_train['predicted A549 IC50'] = inverse_transform(X_train['predicted A549 transformed IC50'])\n",
    "X_test['predicted A549 transformed IC50'] = model_A549.predict(X_test[list(model_A549.feature_names_in_)])\n",
    "X_test['observed A549 transformed IC50'] = y_test\n",
    "X_test['predicted A549 IC50'] = inverse_transform(X_test['predicted A549 transformed IC50'])\n",
    "\n",
    "print('Train R score: '+str(math.sqrt(r2_score(X_train['observed A549 transformed IC50'], X_train['predicted A549 transformed IC50']))))\n",
    "print('Test R score: '+str(math.sqrt(r2_score(X_test['observed A549 transformed IC50'], X_test['predicted A549 transformed IC50']))))\n",
    "print('Train RMSE score: '+str(math.sqrt(mean_squared_error(X_train['observed A549 transformed IC50'], X_train['predicted A549 transformed IC50']))))\n",
    "print('Test RMSE score: '+str(math.sqrt(mean_squared_error(X_test['observed A549 transformed IC50'], X_test['predicted A549 transformed IC50']))))"
   ]
  },
  {
   "cell_type": "code",
   "execution_count": 13,
   "id": "95c0b264-a834-4a56-9d8d-bee51d7dbf9a",
   "metadata": {},
   "outputs": [],
   "source": [
    "with pd.ExcelWriter(\"../Data/A549_random_state_15.xlsx\") as writer:\n",
    "    X_train.to_excel(writer, sheet_name=\"Train\", index=True)\n",
    "    X_test.to_excel(writer, sheet_name=\"Test\", index=True)"
   ]
  },
  {
   "cell_type": "code",
   "execution_count": 14,
   "id": "05249c25-d92a-4ea9-bdaa-3f2b0dd2058b",
   "metadata": {},
   "outputs": [],
   "source": [
    "X_train, X_test, y_train, y_test = train_test_split(res[res.columns[0:-9]], \n",
    "                                                        res['A549_float_transformed'], \n",
    "                                                        test_size=0.15, random_state=28)\n",
    "\n",
    "X_train['predicted A549 transformed IC50'] = model_A549.predict(X_train[list(model_A549.feature_names_in_)])\n",
    "X_train['observed A549 transformed IC50'] = y_train\n",
    "X_train['predicted A549 IC50'] = inverse_transform(X_train['predicted A549 transformed IC50'])\n",
    "X_test['predicted A549 transformed IC50'] = model_A549.predict(X_test[list(model_A549.feature_names_in_)])\n",
    "X_test['observed A549 transformed IC50'] = y_test\n",
    "X_test['predicted A549 IC50'] = inverse_transform(X_test['predicted A549 transformed IC50'])\n",
    "\n",
    "#print('Train R score: '+str(math.sqrt(r2_score(X_train['observed A549 transformed IC50'], X_train['predicted A549 transformed IC50']))))\n",
    "#print('Test R score: '+str(math.sqrt(r2_score(X_test['observed A549 transformed IC50'], X_test['predicted A549 transformed IC50']))))\n",
    "#print('Train RMSE score: '+str(math.sqrt(mean_squared_error(X_train['observed A549 transformed IC50'], X_train['predicted A549 transformed IC50']))))\n",
    "#print('Test RMSE score: '+str(math.sqrt(mean_squared_error(X_test['observed A549 transformed IC50'], X_test['predicted A549 transformed IC50']))))"
   ]
  },
  {
   "cell_type": "code",
   "execution_count": 15,
   "id": "5c18bec5-e23a-430c-88a2-5afc0b8af851",
   "metadata": {},
   "outputs": [],
   "source": [
    "with pd.ExcelWriter(\"../Data/A549_random_state_28.xlsx\") as writer:\n",
    "    X_train.to_excel(writer, sheet_name=\"Train\", index=True)\n",
    "    X_test.to_excel(writer, sheet_name=\"Test\", index=True)"
   ]
  },
  {
   "cell_type": "code",
   "execution_count": 16,
   "id": "a4535e8f-8d9d-4a00-91f6-0545e8d9dca1",
   "metadata": {},
   "outputs": [],
   "source": [
    "X_train, X_test, y_train, y_test = train_test_split(res[res.columns[0:-9]], \n",
    "                                                        res['A549_float_transformed'], \n",
    "                                                        test_size=0.15, random_state=42)\n",
    "\n",
    "X_train['predicted A549 transformed IC50'] = model_A549.predict(X_train[list(model_A549.feature_names_in_)])\n",
    "X_train['observed A549 transformed IC50'] = y_train\n",
    "X_train['predicted A549 IC50'] = inverse_transform(X_train['predicted A549 transformed IC50'])\n",
    "X_test['predicted A549 transformed IC50'] = model_A549.predict(X_test[list(model_A549.feature_names_in_)])\n",
    "X_test['observed A549 transformed IC50'] = y_test\n",
    "X_test['predicted A549 IC50'] = inverse_transform(X_test['predicted A549 transformed IC50'])\n",
    "\n",
    "#print('Train R score: '+str(math.sqrt(r2_score(X_train['observed A549 transformed IC50'], X_train['predicted A549 transformed IC50']))))\n",
    "#print('Test R score: '+str(math.sqrt(r2_score(X_test['observed A549 transformed IC50'], X_test['predicted A549 transformed IC50']))))\n",
    "#print('Train RMSE score: '+str(math.sqrt(mean_squared_error(X_train['observed A549 transformed IC50'], X_train['predicted A549 transformed IC50']))))\n",
    "#print('Test RMSE score: '+str(math.sqrt(mean_squared_error(X_test['observed A549 transformed IC50'], X_test['predicted A549 transformed IC50']))))"
   ]
  },
  {
   "cell_type": "code",
   "execution_count": 17,
   "id": "dd00cb31-56da-4648-89ae-34bdd037e216",
   "metadata": {},
   "outputs": [],
   "source": [
    "with pd.ExcelWriter(\"../Data/A549_random_state_42.xlsx\") as writer:\n",
    "    X_train.to_excel(writer, sheet_name=\"Train\", index=True)\n",
    "    X_test.to_excel(writer, sheet_name=\"Test\", index=True)"
   ]
  },
  {
   "cell_type": "markdown",
   "id": "4fafc7fe-faaa-4d1a-a921-ad40431311e3",
   "metadata": {},
   "source": [
    "## BALB 3T3"
   ]
  },
  {
   "cell_type": "code",
   "execution_count": 18,
   "id": "d4a348ea-8eb6-4d2a-b5eb-67c792eabd20",
   "metadata": {},
   "outputs": [
    {
     "data": {
      "text/plain": [
       "['AMID_O', 'EState_VSA5', 'GATS2c', 'MDEO-12', 'NdssC', 'VSA_EState5']"
      ]
     },
     "execution_count": 18,
     "metadata": {},
     "output_type": "execute_result"
    }
   ],
   "source": [
    "list(model_BALB3_t3.feature_names_in_)"
   ]
  },
  {
   "cell_type": "code",
   "execution_count": 19,
   "id": "0c90da37-e6f6-4aff-b1ab-5c04f715dfd7",
   "metadata": {},
   "outputs": [
    {
     "data": {
      "text/plain": [
       "Index(['SMILES', 'AATS0Z', 'AATS0are', 'AATS0d', 'AATS0dv', 'AATS0i', 'AATS0m',\n",
       "       'AATS0p', 'AATS0pe', 'AATS0s',\n",
       "       ...\n",
       "       'piPC5', 'piPC6', 'piPC7', 'piPC8', 'piPC9', 'A549_float',\n",
       "       'MCF-7_float', 'LoVo_float', 'LoVo/DX_float', 'BALB/3T3_float'],\n",
       "      dtype='object', length=1217)"
      ]
     },
     "execution_count": 19,
     "metadata": {},
     "output_type": "execute_result"
    }
   ],
   "source": [
    "res.columns[0:-5]"
   ]
  },
  {
   "cell_type": "code",
   "execution_count": 20,
   "id": "a2245889-6e8c-43db-a7ec-777f7ab06aa9",
   "metadata": {},
   "outputs": [
    {
     "name": "stdout",
     "output_type": "stream",
     "text": [
      "Train R score: 0.9656538230216772\n",
      "Test R score: 0.8642992780332693\n",
      "Train RMSE score: 0.22547718186980922\n",
      "Test RMSE score: 0.46260702873007903\n"
     ]
    }
   ],
   "source": [
    "X_train, X_test, y_train, y_test = train_test_split(res[res.columns[0:-5]], \n",
    "                                                        res['BALB/3T3_float_transformed'], \n",
    "                                                        test_size=0.15, random_state=15)\n",
    "\n",
    "X_train['predicted BALB 3T3 transformed IC50'] = model_BALB3_t3.predict(X_train[list(model_BALB3_t3.feature_names_in_)])\n",
    "X_train['observed BALB 3T3 transformed IC50'] = y_train\n",
    "X_train['predicted BALB 3T3 IC50'] = inverse_transform(X_train['predicted BALB 3T3 transformed IC50'])\n",
    "X_test['predicted BALB 3T3 transformed IC50'] = model_BALB3_t3.predict(X_test[list(model_BALB3_t3.feature_names_in_)])\n",
    "X_test['observed BALB 3T3 transformed IC50'] = y_test\n",
    "X_test['predicted BALB 3T3 IC50'] = inverse_transform(X_test['predicted BALB 3T3 transformed IC50'])\n",
    "\n",
    "print('Train R score: '+str(math.sqrt(r2_score(X_train['observed BALB 3T3 transformed IC50'], X_train['predicted BALB 3T3 transformed IC50']))))\n",
    "print('Test R score: '+str(math.sqrt(r2_score(X_test['observed BALB 3T3 transformed IC50'], X_test['predicted BALB 3T3 transformed IC50']))))\n",
    "print('Train RMSE score: '+str(math.sqrt(mean_squared_error(X_train['observed BALB 3T3 transformed IC50'], X_train['predicted BALB 3T3 transformed IC50']))))\n",
    "print('Test RMSE score: '+str(math.sqrt(mean_squared_error(X_test['observed BALB 3T3 transformed IC50'], X_test['predicted BALB 3T3 transformed IC50']))))"
   ]
  },
  {
   "cell_type": "code",
   "execution_count": 21,
   "id": "2f513dce-43dd-4be9-9aeb-c080be99a0fc",
   "metadata": {},
   "outputs": [],
   "source": [
    "with pd.ExcelWriter(\"../Data/BALB_3T3_random_state_15.xlsx\") as writer:\n",
    "    X_train.to_excel(writer, sheet_name=\"Train\", index=True)\n",
    "    X_test.to_excel(writer, sheet_name=\"Test\", index=True)"
   ]
  },
  {
   "cell_type": "code",
   "execution_count": 22,
   "id": "bef14910-9ce9-4cc0-93aa-35dfed243a28",
   "metadata": {},
   "outputs": [],
   "source": [
    "X_train, X_test, y_train, y_test = train_test_split(res[res.columns[0:-5]], \n",
    "                                                        res['BALB/3T3_float_transformed'], \n",
    "                                                        test_size=0.15, random_state=28)\n",
    "\n",
    "X_train['predicted BALB 3T3 transformed IC50'] = model_BALB3_t3.predict(X_train[list(model_BALB3_t3.feature_names_in_)])\n",
    "X_train['observed BALB 3T3 transformed IC50'] = y_train\n",
    "X_train['predicted BALB 3T3 IC50'] = inverse_transform(X_train['predicted BALB 3T3 transformed IC50'])\n",
    "X_test['predicted BALB 3T3 transformed IC50'] = model_BALB3_t3.predict(X_test[list(model_BALB3_t3.feature_names_in_)])\n",
    "X_test['observed BALB 3T3 transformed IC50'] = y_test\n",
    "X_test['predicted BALB 3T3 IC50'] = inverse_transform(X_test['predicted BALB 3T3 transformed IC50'])\n",
    "\n",
    "#print('Train R score: '+str(math.sqrt(r2_score(X_train['observed BALB 3T3 transformed IC50'], X_train['predicted BALB 3T3 transformed IC50']))))\n",
    "#print('Test R score: '+str(math.sqrt(r2_score(X_test['observed BALB 3T3 transformed IC50'], X_test['predicted BALB 3T3 transformed IC50']))))\n",
    "#print('Train RMSE score: '+str(math.sqrt(mean_squared_error(X_train['observed BALB 3T3 transformed IC50'], X_train['predicted BALB 3T3 transformed IC50']))))\n",
    "#print('Test RMSE score: '+str(math.sqrt(mean_squared_error(X_test['observed BALB 3T3 transformed IC50'], X_test['predicted BALB 3T3 transformed IC50']))))"
   ]
  },
  {
   "cell_type": "code",
   "execution_count": 23,
   "id": "12eeab1b-0923-45fa-98da-08f5547a771e",
   "metadata": {},
   "outputs": [],
   "source": [
    "with pd.ExcelWriter(\"../Data/BALB_3T3_random_state_28.xlsx\") as writer:\n",
    "    X_train.to_excel(writer, sheet_name=\"Train\", index=True)\n",
    "    X_test.to_excel(writer, sheet_name=\"Test\", index=True)"
   ]
  },
  {
   "cell_type": "code",
   "execution_count": 24,
   "id": "3e2eb8a8-a561-4bb7-a765-4a5e7e3f0624",
   "metadata": {},
   "outputs": [],
   "source": [
    "X_train, X_test, y_train, y_test = train_test_split(res[res.columns[0:-5]], \n",
    "                                                        res['BALB/3T3_float_transformed'], \n",
    "                                                        test_size=0.15, random_state=42)\n",
    "\n",
    "X_train['predicted BALB 3T3 transformed IC50'] = model_BALB3_t3.predict(X_train[list(model_BALB3_t3.feature_names_in_)])\n",
    "X_train['observed BALB 3T3 transformed IC50'] = y_train\n",
    "X_train['predicted BALB 3T3 IC50'] = inverse_transform(X_train['predicted BALB 3T3 transformed IC50'])\n",
    "X_test['predicted BALB 3T3 transformed IC50'] = model_BALB3_t3.predict(X_test[list(model_BALB3_t3.feature_names_in_)])\n",
    "X_test['observed BALB 3T3 transformed IC50'] = y_test\n",
    "X_test['predicted BALB 3T3 IC50'] = inverse_transform(X_test['predicted BALB 3T3 transformed IC50'])\n",
    "\n",
    "#print('Train R score: '+str(math.sqrt(r2_score(X_train['observed BALB 3T3 transformed IC50'], X_train['predicted BALB 3T3 transformed IC50']))))\n",
    "#print('Test R score: '+str(math.sqrt(r2_score(X_test['observed BALB 3T3 transformed IC50'], X_test['predicted BALB 3T3 transformed IC50']))))\n",
    "#print('Train RMSE score: '+str(math.sqrt(mean_squared_error(X_train['observed BALB 3T3 transformed IC50'], X_train['predicted BALB 3T3 transformed IC50']))))\n",
    "#print('Test RMSE score: '+str(math.sqrt(mean_squared_error(X_test['observed BALB 3T3 transformed IC50'], X_test['predicted BALB 3T3 transformed IC50']))))"
   ]
  },
  {
   "cell_type": "code",
   "execution_count": 25,
   "id": "e5520476-2595-4cdf-942e-149d20322f85",
   "metadata": {},
   "outputs": [],
   "source": [
    "with pd.ExcelWriter(\"../Data/BALB_3T3_random_state_42.xlsx\") as writer:\n",
    "    X_train.to_excel(writer, sheet_name=\"Train\", index=True)\n",
    "    X_test.to_excel(writer, sheet_name=\"Test\", index=True)"
   ]
  },
  {
   "cell_type": "markdown",
   "id": "677d8adc-abef-4059-82fe-79a0c011f4fc",
   "metadata": {},
   "source": [
    "## LoVo/dx"
   ]
  },
  {
   "cell_type": "code",
   "execution_count": 26,
   "id": "540dc082-4754-43dd-87dc-244705ffb26b",
   "metadata": {},
   "outputs": [
    {
     "data": {
      "text/plain": [
       "['GATS2c', 'MATS2c', 'NdssC', 'RNCG', 'TopoPSA(NO)']"
      ]
     },
     "execution_count": 26,
     "metadata": {},
     "output_type": "execute_result"
    }
   ],
   "source": [
    "list(model_LoVo_DX.feature_names_in_)"
   ]
  },
  {
   "cell_type": "code",
   "execution_count": 27,
   "id": "58873f82-3ec1-44a9-9d77-c7f0e49ff616",
   "metadata": {},
   "outputs": [
    {
     "data": {
      "text/plain": [
       "Index(['SMILES', 'AATS0Z', 'AATS0are', 'AATS0d', 'AATS0dv', 'AATS0i', 'AATS0m',\n",
       "       'AATS0p', 'AATS0pe', 'AATS0s',\n",
       "       ...\n",
       "       'piPC4', 'piPC5', 'piPC6', 'piPC7', 'piPC8', 'piPC9', 'A549_float',\n",
       "       'MCF-7_float', 'LoVo_float', 'LoVo/DX_float'],\n",
       "      dtype='object', length=1216)"
      ]
     },
     "execution_count": 27,
     "metadata": {},
     "output_type": "execute_result"
    }
   ],
   "source": [
    "res.columns[0:-6]"
   ]
  },
  {
   "cell_type": "code",
   "execution_count": 28,
   "id": "12c75d5f-de72-4d44-8efa-14973afb7a1e",
   "metadata": {},
   "outputs": [
    {
     "name": "stdout",
     "output_type": "stream",
     "text": [
      "(120, 1222)\n"
     ]
    },
    {
     "data": {
      "text/plain": [
       "(106, 1222)"
      ]
     },
     "execution_count": 28,
     "metadata": {},
     "output_type": "execute_result"
    }
   ],
   "source": [
    "print(res.shape)\n",
    "res_ = res.dropna()\n",
    "res_.shape"
   ]
  },
  {
   "cell_type": "code",
   "execution_count": 29,
   "id": "d168d38b-74f6-4825-9603-5d62409184a9",
   "metadata": {},
   "outputs": [],
   "source": [
    "X_train, X_test, y_train, y_test = train_test_split(res_[res_.columns[0:-6]], \n",
    "                                                        res_['LoVo/DX_float_transformed'], \n",
    "                                                        test_size=0.15, random_state=15)\n",
    "\n",
    "X_train['predicted LoVo/DX transformed IC50'] = model_LoVo_DX.predict(X_train[list(model_LoVo_DX.feature_names_in_)])\n",
    "X_train['observed LoVo/DX transformed IC50'] = y_train\n",
    "X_train['predicted LoVo/DX IC50'] = inverse_transform(X_train['predicted LoVo/DX transformed IC50'])\n",
    "X_test['predicted LoVo/DX transformed IC50'] = model_LoVo_DX.predict(X_test[list(model_LoVo_DX.feature_names_in_)])\n",
    "X_test['observed LoVo/DX transformed IC50'] = y_test\n",
    "X_test['predicted LoVo/DX IC50'] = inverse_transform(X_test['predicted LoVo/DX transformed IC50'])\n",
    "\n",
    "#print('Train R score: '+str(math.sqrt(r2_score(X_train['observed LoVo/DX transformed IC50'], X_train['predicted LoVo/DX transformed IC50']))))\n",
    "#print('Test R score: '+str(math.sqrt(r2_score(X_test['observed LoVo/DX transformed IC50'], X_test['predicted LoVo/DX transformed IC50']))))\n",
    "#print('Train RMSE score: '+str(math.sqrt(mean_squared_error(X_train['observed LoVo/DX transformed IC50'], X_train['predicted LoVo/DX transformed IC50']))))\n",
    "#print('Test RMSE score: '+str(math.sqrt(mean_squared_error(X_test['observed LoVo/DX transformed IC50'], X_test['predicted LoVo/DX transformed IC50']))))"
   ]
  },
  {
   "cell_type": "code",
   "execution_count": 30,
   "id": "4c9c9343-3051-4743-9148-321d7d1a6728",
   "metadata": {},
   "outputs": [],
   "source": [
    "with pd.ExcelWriter(\"../Data/LoVo_DX_random_state_15.xlsx\") as writer:\n",
    "    X_train.to_excel(writer, sheet_name=\"Train\", index=True)\n",
    "    X_test.to_excel(writer, sheet_name=\"Test\", index=True)"
   ]
  },
  {
   "cell_type": "code",
   "execution_count": 31,
   "id": "5ad4701a-97ed-4c97-acce-2c96c49b48ce",
   "metadata": {},
   "outputs": [],
   "source": [
    "X_train, X_test, y_train, y_test = train_test_split(res_[res_.columns[0:-6]], \n",
    "                                                        res_['LoVo/DX_float_transformed'], \n",
    "                                                        test_size=0.15, random_state=28)\n",
    "\n",
    "X_train['predicted LoVo/DX transformed IC50'] = model_LoVo_DX.predict(X_train[list(model_LoVo_DX.feature_names_in_)])\n",
    "X_train['observed LoVo/DX transformed IC50'] = y_train\n",
    "X_train['predicted LoVo/DX IC50'] = inverse_transform(X_train['predicted LoVo/DX transformed IC50'])\n",
    "X_test['predicted LoVo/DX transformed IC50'] = model_LoVo_DX.predict(X_test[list(model_LoVo_DX.feature_names_in_)])\n",
    "X_test['observed LoVo/DX transformed IC50'] = y_test\n",
    "X_test['predicted LoVo/DX IC50'] = inverse_transform(X_test['predicted LoVo/DX transformed IC50'])\n",
    "\n",
    "#print('Train R score: '+str(math.sqrt(r2_score(X_train['observed LoVo/DX transformed IC50'], X_train['predicted LoVo/DX transformed IC50']))))\n",
    "#print('Test R score: '+str(math.sqrt(r2_score(X_test['observed LoVo/DX transformed IC50'], X_test['predicted LoVo/DX transformed IC50']))))\n",
    "#print('Train RMSE score: '+str(math.sqrt(mean_squared_error(X_train['observed LoVo/DX transformed IC50'], X_train['predicted LoVo/DX transformed IC50']))))\n",
    "#print('Test RMSE score: '+str(math.sqrt(mean_squared_error(X_test['observed LoVo/DX transformed IC50'], X_test['predicted LoVo/DX transformed IC50']))))"
   ]
  },
  {
   "cell_type": "code",
   "execution_count": 32,
   "id": "61905dce-6eca-47eb-a7a7-c65ba29c0e2b",
   "metadata": {},
   "outputs": [],
   "source": [
    "with pd.ExcelWriter(\"../Data/LoVo_DX_random_state_28.xlsx\") as writer:\n",
    "    X_train.to_excel(writer, sheet_name=\"Train\", index=True)\n",
    "    X_test.to_excel(writer, sheet_name=\"Test\", index=True)"
   ]
  },
  {
   "cell_type": "code",
   "execution_count": 33,
   "id": "1401a2ab-27cd-4445-a4ce-f82f8ba53940",
   "metadata": {},
   "outputs": [
    {
     "name": "stdout",
     "output_type": "stream",
     "text": [
      "Train R score: 0.9610074984048745\n",
      "Test R score: 0.790562123545645\n",
      "Train RMSE score: 0.26590821262128245\n",
      "Test RMSE score: 0.4420939409154765\n"
     ]
    }
   ],
   "source": [
    "X_train, X_test, y_train, y_test = train_test_split(res_[res_.columns[0:-6]], \n",
    "                                                        res_['LoVo/DX_float_transformed'], \n",
    "                                                        test_size=0.15, random_state=42)\n",
    "\n",
    "X_train['predicted LoVo/DX transformed IC50'] = model_LoVo_DX.predict(X_train[list(model_LoVo_DX.feature_names_in_)])\n",
    "X_train['observed LoVo/DX transformed IC50'] = y_train\n",
    "X_train['predicted LoVo/DX IC50'] = inverse_transform(X_train['predicted LoVo/DX transformed IC50'])\n",
    "X_test['predicted LoVo/DX transformed IC50'] = model_LoVo_DX.predict(X_test[list(model_LoVo_DX.feature_names_in_)])\n",
    "X_test['observed LoVo/DX transformed IC50'] = y_test\n",
    "X_test['predicted LoVo/DX IC50'] = inverse_transform(X_test['predicted LoVo/DX transformed IC50'])\n",
    "\n",
    "print('Train R score: '+str(math.sqrt(r2_score(X_train['observed LoVo/DX transformed IC50'], X_train['predicted LoVo/DX transformed IC50']))))\n",
    "print('Test R score: '+str(math.sqrt(r2_score(X_test['observed LoVo/DX transformed IC50'], X_test['predicted LoVo/DX transformed IC50']))))\n",
    "print('Train RMSE score: '+str(math.sqrt(mean_squared_error(X_train['observed LoVo/DX transformed IC50'], X_train['predicted LoVo/DX transformed IC50']))))\n",
    "print('Test RMSE score: '+str(math.sqrt(mean_squared_error(X_test['observed LoVo/DX transformed IC50'], X_test['predicted LoVo/DX transformed IC50']))))"
   ]
  },
  {
   "cell_type": "code",
   "execution_count": 34,
   "id": "f63522c0-9074-41a6-8c5a-bfc3a333eef7",
   "metadata": {},
   "outputs": [],
   "source": [
    "with pd.ExcelWriter(\"../Data/LoVo_DX_random_state_42.xlsx\") as writer:\n",
    "    X_train.to_excel(writer, sheet_name=\"Train\", index=True)\n",
    "    X_test.to_excel(writer, sheet_name=\"Test\", index=True)"
   ]
  },
  {
   "cell_type": "markdown",
   "id": "f0e12d51-3e13-4d6e-a644-98243780dbcc",
   "metadata": {},
   "source": [
    "## LoVo"
   ]
  },
  {
   "cell_type": "code",
   "execution_count": 35,
   "id": "e41d3ab6-ae57-40d8-81fa-b43b9ae26b7f",
   "metadata": {},
   "outputs": [
    {
     "data": {
      "text/plain": [
       "['EState_VSA5', 'MDEO-12']"
      ]
     },
     "execution_count": 35,
     "metadata": {},
     "output_type": "execute_result"
    }
   ],
   "source": [
    "list(model_LoVo.feature_names_in_)"
   ]
  },
  {
   "cell_type": "code",
   "execution_count": 36,
   "id": "f8459149-2642-4057-af6e-57d178e71057",
   "metadata": {},
   "outputs": [
    {
     "data": {
      "text/plain": [
       "Index(['SMILES', 'AATS0Z', 'AATS0are', 'AATS0d', 'AATS0dv', 'AATS0i', 'AATS0m',\n",
       "       'AATS0p', 'AATS0pe', 'AATS0s',\n",
       "       ...\n",
       "       'piPC3', 'piPC4', 'piPC5', 'piPC6', 'piPC7', 'piPC8', 'piPC9',\n",
       "       'A549_float', 'MCF-7_float', 'LoVo_float'],\n",
       "      dtype='object', length=1215)"
      ]
     },
     "execution_count": 36,
     "metadata": {},
     "output_type": "execute_result"
    }
   ],
   "source": [
    "res.columns[0:-7]"
   ]
  },
  {
   "cell_type": "code",
   "execution_count": 37,
   "id": "af22d0d7-2b10-4ff4-9620-97616ee42798",
   "metadata": {},
   "outputs": [],
   "source": [
    "X_train, X_test, y_train, y_test = train_test_split(res[res.columns[0:-7]], \n",
    "                                                        res['LoVo_float_transformed'], \n",
    "                                                        test_size=0.15, random_state=15)\n",
    "\n",
    "X_train['predicted LoVo transformed IC50'] = model_LoVo.predict(X_train[list(model_LoVo.feature_names_in_)])\n",
    "X_train['observed LoVo transformed IC50'] = y_train\n",
    "X_train['predicted LoVo IC50'] = inverse_transform(X_train['predicted LoVo transformed IC50'])\n",
    "X_test['predicted LoVo transformed IC50'] = model_LoVo.predict(X_test[list(model_LoVo.feature_names_in_)])\n",
    "X_test['observed LoVo transformed IC50'] = y_test\n",
    "X_test['predicted LoVo IC50'] = inverse_transform(X_test['predicted LoVo transformed IC50'])\n",
    "\n",
    "#print('Train R score: '+str(math.sqrt(r2_score(X_train['observed LoVo transformed IC50'], X_train['predicted LoVo transformed IC50']))))\n",
    "#print('Test R score: '+str(math.sqrt(r2_score(X_test['observed LoVo transformed IC50'], X_test['predicted LoVo transformed IC50']))))\n",
    "#print('Train RMSE score: '+str(math.sqrt(mean_squared_error(X_train['observed LoVo transformed IC50'], X_train['predicted LoVo transformed IC50']))))\n",
    "#print('Test RMSE score: '+str(math.sqrt(mean_squared_error(X_test['observed LoVo transformed IC50'], X_test['predicted LoVo transformed IC50']))))"
   ]
  },
  {
   "cell_type": "code",
   "execution_count": 38,
   "id": "d9e1e168-c989-47a9-b225-83cc45e3f560",
   "metadata": {},
   "outputs": [],
   "source": [
    "with pd.ExcelWriter(\"../Data/LoVo_random_state_15.xlsx\") as writer:\n",
    "    X_train.to_excel(writer, sheet_name=\"Train\", index=True)\n",
    "    X_test.to_excel(writer, sheet_name=\"Test\", index=True)"
   ]
  },
  {
   "cell_type": "code",
   "execution_count": 39,
   "id": "b3074222-97a2-4541-81e7-25ace12a045d",
   "metadata": {},
   "outputs": [
    {
     "name": "stdout",
     "output_type": "stream",
     "text": [
      "Train R score: 0.8811267812945673\n",
      "Test R score: 0.6572630628008767\n",
      "Train RMSE score: 0.4438384819944741\n",
      "Test RMSE score: 0.5047746604903675\n"
     ]
    }
   ],
   "source": [
    "X_train, X_test, y_train, y_test = train_test_split(res[res.columns[0:-7]], \n",
    "                                                        res['LoVo_float_transformed'], \n",
    "                                                        test_size=0.15, random_state=28)\n",
    "\n",
    "X_train['predicted LoVo transformed IC50'] = model_LoVo.predict(X_train[list(model_LoVo.feature_names_in_)])\n",
    "X_train['observed LoVo transformed IC50'] = y_train\n",
    "X_train['predicted LoVo IC50'] = inverse_transform(X_train['predicted LoVo transformed IC50'])\n",
    "X_test['predicted LoVo transformed IC50'] = model_LoVo.predict(X_test[list(model_LoVo.feature_names_in_)])\n",
    "X_test['observed LoVo transformed IC50'] = y_test\n",
    "X_test['predicted LoVo IC50'] = inverse_transform(X_test['predicted LoVo transformed IC50'])\n",
    "\n",
    "print('Train R score: '+str(math.sqrt(r2_score(X_train['observed LoVo transformed IC50'], X_train['predicted LoVo transformed IC50']))))\n",
    "print('Test R score: '+str(math.sqrt(r2_score(X_test['observed LoVo transformed IC50'], X_test['predicted LoVo transformed IC50']))))\n",
    "print('Train RMSE score: '+str(math.sqrt(mean_squared_error(X_train['observed LoVo transformed IC50'], X_train['predicted LoVo transformed IC50']))))\n",
    "print('Test RMSE score: '+str(math.sqrt(mean_squared_error(X_test['observed LoVo transformed IC50'], X_test['predicted LoVo transformed IC50']))))"
   ]
  },
  {
   "cell_type": "code",
   "execution_count": 40,
   "id": "a8ac9f83-2b3e-455c-8947-2feb0b13df5d",
   "metadata": {},
   "outputs": [],
   "source": [
    "with pd.ExcelWriter(\"../Data/LoVo_random_state_28.xlsx\") as writer:\n",
    "    X_train.to_excel(writer, sheet_name=\"Train\", index=True)\n",
    "    X_test.to_excel(writer, sheet_name=\"Test\", index=True)"
   ]
  },
  {
   "cell_type": "code",
   "execution_count": 41,
   "id": "f7c993b5-ecc4-4bbb-ab2d-e4db7feeb7e4",
   "metadata": {},
   "outputs": [],
   "source": [
    "X_train, X_test, y_train, y_test = train_test_split(res[res.columns[0:-7]], \n",
    "                                                        res['LoVo_float_transformed'], \n",
    "                                                        test_size=0.15, random_state=42)\n",
    "\n",
    "X_train['predicted LoVo transformed IC50'] = model_LoVo.predict(X_train[list(model_LoVo.feature_names_in_)])\n",
    "X_train['observed LoVo transformed IC50'] = y_train\n",
    "X_train['predicted LoVo IC50'] = inverse_transform(X_train['predicted LoVo transformed IC50'])\n",
    "X_test['predicted LoVo transformed IC50'] = model_LoVo.predict(X_test[list(model_LoVo.feature_names_in_)])\n",
    "X_test['observed LoVo transformed IC50'] = y_test\n",
    "X_test['predicted LoVo IC50'] = inverse_transform(X_test['predicted LoVo transformed IC50'])\n",
    "\n",
    "#print('Train R score: '+str(math.sqrt(r2_score(X_train['observed LoVo transformed IC50'], X_train['predicted LoVo transformed IC50']))))\n",
    "#print('Test R score: '+str(math.sqrt(r2_score(X_test['observed LoVo transformed IC50'], X_test['predicted LoVo transformed IC50']))))\n",
    "#print('Train RMSE score: '+str(math.sqrt(mean_squared_error(X_train['observed LoVo transformed IC50'], X_train['predicted LoVo transformed IC50']))))\n",
    "#print('Test RMSE score: '+str(math.sqrt(mean_squared_error(X_test['observed LoVo transformed IC50'], X_test['predicted LoVo transformed IC50']))))"
   ]
  },
  {
   "cell_type": "code",
   "execution_count": 42,
   "id": "37e3ee25-0575-4d2d-bd16-0374ce1d3136",
   "metadata": {},
   "outputs": [],
   "source": [
    "with pd.ExcelWriter(\"../Data/LoVo_random_state_42.xlsx\") as writer:\n",
    "    X_train.to_excel(writer, sheet_name=\"Train\", index=True)\n",
    "    X_test.to_excel(writer, sheet_name=\"Test\", index=True)"
   ]
  },
  {
   "cell_type": "markdown",
   "id": "81391636-9676-4c6b-ba23-e2bbb25400e1",
   "metadata": {},
   "source": [
    "## MCF-7"
   ]
  },
  {
   "cell_type": "code",
   "execution_count": 43,
   "id": "2ef6c27b-e3e1-44a9-8bf1-04297d3bdc5b",
   "metadata": {},
   "outputs": [
    {
     "data": {
      "text/plain": [
       "['AMID_O', 'EState_VSA5', 'EState_VSA6', 'MDEO-12']"
      ]
     },
     "execution_count": 43,
     "metadata": {},
     "output_type": "execute_result"
    }
   ],
   "source": [
    "list(model_MCF_7.feature_names_in_)"
   ]
  },
  {
   "cell_type": "code",
   "execution_count": 44,
   "id": "2fc0090d-cc24-4b59-bb7c-1fa3a1f5ccce",
   "metadata": {},
   "outputs": [
    {
     "data": {
      "text/plain": [
       "Index(['SMILES', 'AATS0Z', 'AATS0are', 'AATS0d', 'AATS0dv', 'AATS0i', 'AATS0m',\n",
       "       'AATS0p', 'AATS0pe', 'AATS0s',\n",
       "       ...\n",
       "       'piPC2', 'piPC3', 'piPC4', 'piPC5', 'piPC6', 'piPC7', 'piPC8', 'piPC9',\n",
       "       'A549_float', 'MCF-7_float'],\n",
       "      dtype='object', length=1214)"
      ]
     },
     "execution_count": 44,
     "metadata": {},
     "output_type": "execute_result"
    }
   ],
   "source": [
    "res.columns[0:-8]"
   ]
  },
  {
   "cell_type": "code",
   "execution_count": 45,
   "id": "9e8d1563-d969-4f6d-b790-9a94a50686d8",
   "metadata": {},
   "outputs": [
    {
     "name": "stdout",
     "output_type": "stream",
     "text": [
      "Train R score: 0.85288466325432\n",
      "Test R score: 0.677226040545383\n",
      "Train RMSE score: 0.4524890646893892\n",
      "Test RMSE score: 0.8054094630462401\n"
     ]
    }
   ],
   "source": [
    "X_train, X_test, y_train, y_test = train_test_split(res[res.columns[0:-8]], \n",
    "                                                        res['LoVo_float_transformed'], \n",
    "                                                        test_size=0.15, random_state=15)\n",
    "\n",
    "X_train['predicted MCF-7 transformed IC50'] = model_MCF_7.predict(X_train[list(model_MCF_7.feature_names_in_)])\n",
    "X_train['observed MCF-7 transformed IC50'] = y_train\n",
    "X_train['predicted MCF-7 IC50'] = inverse_transform(X_train['predicted MCF-7 transformed IC50'])\n",
    "X_test['predicted MCF-7 transformed IC50'] = model_MCF_7.predict(X_test[list(model_MCF_7.feature_names_in_)])\n",
    "X_test['observed MCF-7 transformed IC50'] = y_test\n",
    "X_test['predicted MCF-7 IC50'] = inverse_transform(X_test['predicted MCF-7 transformed IC50'])\n",
    "\n",
    "print('Train R score: '+str(math.sqrt(r2_score(X_train['observed MCF-7 transformed IC50'], X_train['predicted MCF-7 transformed IC50']))))\n",
    "print('Test R score: '+str(math.sqrt(r2_score(X_test['observed MCF-7 transformed IC50'], X_test['predicted MCF-7 transformed IC50']))))\n",
    "print('Train RMSE score: '+str(math.sqrt(mean_squared_error(X_train['observed MCF-7 transformed IC50'], X_train['predicted MCF-7 transformed IC50']))))\n",
    "print('Test RMSE score: '+str(math.sqrt(mean_squared_error(X_test['observed MCF-7 transformed IC50'], X_test['predicted MCF-7 transformed IC50']))))"
   ]
  },
  {
   "cell_type": "code",
   "execution_count": 46,
   "id": "377da623-4e9f-49ec-90f4-d066ef3e5b42",
   "metadata": {},
   "outputs": [],
   "source": [
    "with pd.ExcelWriter(\"../Data/MCF-7_random_state_15.xlsx\") as writer:\n",
    "    X_train.to_excel(writer, sheet_name=\"Train\", index=True)\n",
    "    X_test.to_excel(writer, sheet_name=\"Test\", index=True)"
   ]
  },
  {
   "cell_type": "code",
   "execution_count": 47,
   "id": "534eb115-cacb-4ac2-900b-e6379e988f09",
   "metadata": {},
   "outputs": [],
   "source": [
    "X_train, X_test, y_train, y_test = train_test_split(res[res.columns[0:-8]], \n",
    "                                                        res['LoVo_float_transformed'], \n",
    "                                                        test_size=0.15, random_state=28)\n",
    "\n",
    "X_train['predicted MCF-7 transformed IC50'] = model_MCF_7.predict(X_train[list(model_MCF_7.feature_names_in_)])\n",
    "X_train['observed MCF-7 transformed IC50'] = y_train\n",
    "X_train['predicted MCF-7 IC50'] = inverse_transform(X_train['predicted MCF-7 transformed IC50'])\n",
    "X_test['predicted MCF-7 transformed IC50'] = model_MCF_7.predict(X_test[list(model_MCF_7.feature_names_in_)])\n",
    "X_test['observed MCF-7 transformed IC50'] = y_test\n",
    "X_test['predicted MCF-7 IC50'] = inverse_transform(X_test['predicted MCF-7 transformed IC50'])\n",
    "\n",
    "#print('Train R score: '+str(math.sqrt(r2_score(X_train['observed MCF-7 transformed IC50'], X_train['predicted MCF-7 transformed IC50']))))\n",
    "#print('Test R score: '+str(math.sqrt(r2_score(X_test['observed MCF-7 transformed IC50'], X_test['predicted MCF-7 transformed IC50']))))\n",
    "#print('Train RMSE score: '+str(math.sqrt(mean_squared_error(X_train['observed MCF-7 transformed IC50'], X_train['predicted MCF-7 transformed IC50']))))\n",
    "#print('Test RMSE score: '+str(math.sqrt(mean_squared_error(X_test['observed MCF-7 transformed IC50'], X_test['predicted MCF-7 transformed IC50']))))"
   ]
  },
  {
   "cell_type": "code",
   "execution_count": 48,
   "id": "1210c875-319f-4ab2-b5a0-52e86a26cc61",
   "metadata": {},
   "outputs": [],
   "source": [
    "with pd.ExcelWriter(\"../Data/MCF-7_random_state_28.xlsx\") as writer:\n",
    "    X_train.to_excel(writer, sheet_name=\"Train\", index=True)\n",
    "    X_test.to_excel(writer, sheet_name=\"Test\", index=True)"
   ]
  },
  {
   "cell_type": "code",
   "execution_count": 49,
   "id": "a60076eb-e76c-4318-ab85-25b46648ac76",
   "metadata": {},
   "outputs": [],
   "source": [
    "X_train, X_test, y_train, y_test = train_test_split(res[res.columns[0:-8]], \n",
    "                                                        res['LoVo_float_transformed'], \n",
    "                                                        test_size=0.15, random_state=42)\n",
    "\n",
    "X_train['predicted MCF-7 transformed IC50'] = model_MCF_7.predict(X_train[list(model_MCF_7.feature_names_in_)])\n",
    "X_train['observed MCF-7 transformed IC50'] = y_train\n",
    "X_train['predicted MCF-7 IC50'] = inverse_transform(X_train['predicted MCF-7 transformed IC50'])\n",
    "X_test['predicted MCF-7 transformed IC50'] = model_MCF_7.predict(X_test[list(model_MCF_7.feature_names_in_)])\n",
    "X_test['observed MCF-7 transformed IC50'] = y_test\n",
    "X_test['predicted MCF-7 IC50'] = inverse_transform(X_test['predicted MCF-7 transformed IC50'])\n",
    "\n",
    "#print('Train R score: '+str(math.sqrt(r2_score(X_train['observed MCF-7 transformed IC50'], X_train['predicted MCF-7 transformed IC50']))))\n",
    "#print('Test R score: '+str(math.sqrt(r2_score(X_test['observed MCF-7 transformed IC50'], X_test['predicted MCF-7 transformed IC50']))))\n",
    "#print('Train RMSE score: '+str(math.sqrt(mean_squared_error(X_train['observed MCF-7 transformed IC50'], X_train['predicted MCF-7 transformed IC50']))))\n",
    "#print('Test RMSE score: '+str(math.sqrt(mean_squared_error(X_test['observed MCF-7 transformed IC50'], X_test['predicted MCF-7 transformed IC50']))))"
   ]
  },
  {
   "cell_type": "code",
   "execution_count": 50,
   "id": "36f48f9f-b8cb-4526-b049-7d20ee6e3dcd",
   "metadata": {},
   "outputs": [],
   "source": [
    "with pd.ExcelWriter(\"../Data/MCF-7_random_state_42.xlsx\") as writer:\n",
    "    X_train.to_excel(writer, sheet_name=\"Train\", index=True)\n",
    "    X_test.to_excel(writer, sheet_name=\"Test\", index=True)"
   ]
  }
 ],
 "metadata": {
  "kernelspec": {
   "display_name": "Python 3 (ipykernel)",
   "language": "python",
   "name": "python3"
  },
  "language_info": {
   "codemirror_mode": {
    "name": "ipython",
    "version": 3
   },
   "file_extension": ".py",
   "mimetype": "text/x-python",
   "name": "python",
   "nbconvert_exporter": "python",
   "pygments_lexer": "ipython3",
   "version": "3.9.15"
  }
 },
 "nbformat": 4,
 "nbformat_minor": 5
}
