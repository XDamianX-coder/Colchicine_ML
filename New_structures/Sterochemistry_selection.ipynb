{
 "cells": [
  {
   "cell_type": "code",
   "execution_count": 1,
   "id": "d87ecf0f-00a1-423f-97fe-204c464d18c1",
   "metadata": {},
   "outputs": [],
   "source": [
    "import pandas as pd\n",
    "from rdkit import Chem\n",
    "import matplotlib.pyplot as plt\n",
    "%matplotlib inline\n",
    "import numpy as np\n",
    "\n",
    "from rdkit.Chem import PandasTools\n",
    "\n",
    "from rdkit import Chem\n",
    "from rdkit.Chem.Draw import IPythonConsole\n",
    "\n",
    "def show_atom_number(mol, label):\n",
    "    for atom in mol.GetAtoms():\n",
    "        atom.SetProp(label, str(atom.GetIdx()+1))\n",
    "    return mol"
   ]
  },
  {
   "cell_type": "code",
   "execution_count": 2,
   "id": "e907bfd9-2031-4054-aef2-7371b0662cad",
   "metadata": {},
   "outputs": [],
   "source": [
    "## Starting structures stereochemistry\n",
    "start = pd.read_excel('../Data/Kolchicyna_prepared_data.xlsx')"
   ]
  },
  {
   "cell_type": "code",
   "execution_count": 3,
   "id": "e52ac7e1-a76d-44e0-9ee3-39cd51d90488",
   "metadata": {},
   "outputs": [
    {
     "data": {
      "text/html": [
       "<div>\n",
       "<style scoped>\n",
       "    .dataframe tbody tr th:only-of-type {\n",
       "        vertical-align: middle;\n",
       "    }\n",
       "\n",
       "    .dataframe tbody tr th {\n",
       "        vertical-align: top;\n",
       "    }\n",
       "\n",
       "    .dataframe thead th {\n",
       "        text-align: right;\n",
       "    }\n",
       "</style>\n",
       "<table border=\"1\" class=\"dataframe\">\n",
       "  <thead>\n",
       "    <tr style=\"text-align: right;\">\n",
       "      <th></th>\n",
       "      <th>Unnamed: 0</th>\n",
       "      <th>Publikacja DOI</th>\n",
       "      <th>Numer związku w publikacji</th>\n",
       "      <th>SMILES</th>\n",
       "      <th>Atywność [nM]</th>\n",
       "      <th>A549</th>\n",
       "      <th>MCF-7</th>\n",
       "      <th>LoVo</th>\n",
       "      <th>LoVo/DX</th>\n",
       "      <th>BALB/3T3</th>\n",
       "      <th>A549_float</th>\n",
       "      <th>MCF-7_float</th>\n",
       "      <th>LoVo_float</th>\n",
       "      <th>LoVo/DX_float</th>\n",
       "      <th>BALB/3T3_float</th>\n",
       "    </tr>\n",
       "  </thead>\n",
       "  <tbody>\n",
       "    <tr>\n",
       "      <th>0</th>\n",
       "      <td>0</td>\n",
       "      <td>https://doi.org/10.1016/j.bmcl.2021.128382</td>\n",
       "      <td>1</td>\n",
       "      <td>COc2c3C1=CC=C(SC)C(=O)C=C1[C@H](CCc3cc(OC)c2OC...</td>\n",
       "      <td>Atywność [nM]</td>\n",
       "      <td>10,8</td>\n",
       "      <td>10,3</td>\n",
       "      <td>6,5</td>\n",
       "      <td>54,9</td>\n",
       "      <td>10,2</td>\n",
       "      <td>10.8</td>\n",
       "      <td>10.3</td>\n",
       "      <td>6.5</td>\n",
       "      <td>54.9</td>\n",
       "      <td>10.2</td>\n",
       "    </tr>\n",
       "    <tr>\n",
       "      <th>1</th>\n",
       "      <td>1</td>\n",
       "      <td>https://doi.org/10.1016/j.bmcl.2021.128382</td>\n",
       "      <td>2</td>\n",
       "      <td>COc2c3C1=CC=C(SC)C(=O)C=C1[C@H](CCc3cc(OC)c2OC...</td>\n",
       "      <td>Atywność [nM]</td>\n",
       "      <td>11,6</td>\n",
       "      <td>12,0</td>\n",
       "      <td>8,5</td>\n",
       "      <td>31.1</td>\n",
       "      <td>14.3</td>\n",
       "      <td>11.6</td>\n",
       "      <td>12.0</td>\n",
       "      <td>8.5</td>\n",
       "      <td>31.1</td>\n",
       "      <td>14.3</td>\n",
       "    </tr>\n",
       "    <tr>\n",
       "      <th>2</th>\n",
       "      <td>2</td>\n",
       "      <td>https://doi.org/10.1016/j.bmcl.2021.128382</td>\n",
       "      <td>3</td>\n",
       "      <td>COc2c3C1=CC=C(SC)C(=O)C=C1[C@H](CCc3cc(OC)c2OC...</td>\n",
       "      <td>Atywność [nM]</td>\n",
       "      <td>10,9</td>\n",
       "      <td>12,2</td>\n",
       "      <td>8,8</td>\n",
       "      <td>17,9</td>\n",
       "      <td>11,7</td>\n",
       "      <td>10.9</td>\n",
       "      <td>12.2</td>\n",
       "      <td>8.8</td>\n",
       "      <td>17.9</td>\n",
       "      <td>11.7</td>\n",
       "    </tr>\n",
       "    <tr>\n",
       "      <th>3</th>\n",
       "      <td>3</td>\n",
       "      <td>https://doi.org/10.1016/j.bmcl.2021.128382</td>\n",
       "      <td>4</td>\n",
       "      <td>CC(C)CN[C@H]2CCc3cc(OC)c(OC)c(OC)c3C1=CC=C(SC)...</td>\n",
       "      <td>Atywność [nM]</td>\n",
       "      <td>10,5</td>\n",
       "      <td>11,3</td>\n",
       "      <td>8,5</td>\n",
       "      <td>10,2</td>\n",
       "      <td>11,0</td>\n",
       "      <td>10.5</td>\n",
       "      <td>11.3</td>\n",
       "      <td>8.5</td>\n",
       "      <td>10.2</td>\n",
       "      <td>11.0</td>\n",
       "    </tr>\n",
       "    <tr>\n",
       "      <th>4</th>\n",
       "      <td>4</td>\n",
       "      <td>https://doi.org/10.1016/j.bmcl.2021.128382</td>\n",
       "      <td>5</td>\n",
       "      <td>COc2c3C1=CC=C(SC)C(=O)C=C1[C@H](CCc3cc(OC)c2OC...</td>\n",
       "      <td>Atywność [nM]</td>\n",
       "      <td>89,5</td>\n",
       "      <td>92,7</td>\n",
       "      <td>52,8</td>\n",
       "      <td>77,8</td>\n",
       "      <td>99,4</td>\n",
       "      <td>89.5</td>\n",
       "      <td>92.7</td>\n",
       "      <td>52.8</td>\n",
       "      <td>77.8</td>\n",
       "      <td>99.4</td>\n",
       "    </tr>\n",
       "  </tbody>\n",
       "</table>\n",
       "</div>"
      ],
      "text/plain": [
       "   Unnamed: 0                              Publikacja DOI  \\\n",
       "0           0  https://doi.org/10.1016/j.bmcl.2021.128382   \n",
       "1           1  https://doi.org/10.1016/j.bmcl.2021.128382   \n",
       "2           2  https://doi.org/10.1016/j.bmcl.2021.128382   \n",
       "3           3  https://doi.org/10.1016/j.bmcl.2021.128382   \n",
       "4           4  https://doi.org/10.1016/j.bmcl.2021.128382   \n",
       "\n",
       "  Numer związku w publikacji  \\\n",
       "0                          1   \n",
       "1                          2   \n",
       "2                          3   \n",
       "3                          4   \n",
       "4                          5   \n",
       "\n",
       "                                              SMILES  Atywność [nM]   A549  \\\n",
       "0  COc2c3C1=CC=C(SC)C(=O)C=C1[C@H](CCc3cc(OC)c2OC...  Atywność [nM]  10,8    \n",
       "1  COc2c3C1=CC=C(SC)C(=O)C=C1[C@H](CCc3cc(OC)c2OC...  Atywność [nM]  11,6    \n",
       "2  COc2c3C1=CC=C(SC)C(=O)C=C1[C@H](CCc3cc(OC)c2OC...  Atywność [nM]  10,9    \n",
       "3  CC(C)CN[C@H]2CCc3cc(OC)c(OC)c(OC)c3C1=CC=C(SC)...  Atywność [nM]  10,5    \n",
       "4  COc2c3C1=CC=C(SC)C(=O)C=C1[C@H](CCc3cc(OC)c2OC...  Atywność [nM]  89,5    \n",
       "\n",
       "   MCF-7   LoVo LoVo/DX BALB/3T3  A549_float  MCF-7_float  LoVo_float  \\\n",
       "0  10,3    6,5    54,9     10,2         10.8         10.3         6.5   \n",
       "1  12,0    8,5     31.1     14.3        11.6         12.0         8.5   \n",
       "2  12,2    8,8    17,9     11,7         10.9         12.2         8.8   \n",
       "3  11,3    8,5    10,2     11,0         10.5         11.3         8.5   \n",
       "4  92,7   52,8    77,8     99,4         89.5         92.7        52.8   \n",
       "\n",
       "   LoVo/DX_float  BALB/3T3_float  \n",
       "0           54.9            10.2  \n",
       "1           31.1            14.3  \n",
       "2           17.9            11.7  \n",
       "3           10.2            11.0  \n",
       "4           77.8            99.4  "
      ]
     },
     "execution_count": 3,
     "metadata": {},
     "output_type": "execute_result"
    }
   ],
   "source": [
    "start.head()"
   ]
  },
  {
   "cell_type": "code",
   "execution_count": 4,
   "id": "939bc48c-d6ca-4a38-9bd3-93e76ed7a3ea",
   "metadata": {},
   "outputs": [],
   "source": [
    "## https://www.rdkit.org/docs/RDKit_Book.html"
   ]
  },
  {
   "cell_type": "code",
   "execution_count": 5,
   "id": "b80d9390-0e40-40cd-84cf-028f9992490d",
   "metadata": {},
   "outputs": [
    {
     "data": {
      "image/png": "[encoded data removed]",
      "text/plain": [
       "<rdkit.Chem.rdchem.Mol at 0x2188889dd60>"
      ]
     },
     "execution_count": 5,
     "metadata": {},
     "output_type": "execute_result"
    }
   ],
   "source": [
    "Chem.MolFromSmiles(start['SMILES'][0])"
   ]
  },
  {
   "cell_type": "code",
   "execution_count": 6,
   "id": "3e3005f7-61b7-44b9-b52f-26e96ee64802",
   "metadata": {},
   "outputs": [
    {
     "data": {
      "image/png": "[encoded data removed]",
      "text/plain": [
       "<rdkit.Chem.rdchem.Mol at 0x218889664a0>"
      ]
     },
     "execution_count": 6,
     "metadata": {},
     "output_type": "execute_result"
    }
   ],
   "source": [
    "x = Chem.MolFromSmiles(start['SMILES'][0])\n",
    "Chem.AssignStereochemistry(x)\n",
    "x"
   ]
  },
  {
   "cell_type": "code",
   "execution_count": 7,
   "id": "7c58065d-8566-4118-a22e-24e2c815eb22",
   "metadata": {},
   "outputs": [
    {
     "data": {
      "text/plain": [
       "[(14, 'S')]"
      ]
     },
     "execution_count": 7,
     "metadata": {},
     "output_type": "execute_result"
    }
   ],
   "source": [
    "xx = Chem.FindMolChiralCenters(x)\n",
    "xx"
   ]
  },
  {
   "cell_type": "code",
   "execution_count": 8,
   "id": "85be8649-2509-4e29-b217-3f3fe6c3cd35",
   "metadata": {},
   "outputs": [
    {
     "data": {
      "text/plain": [
       "'S'"
      ]
     },
     "execution_count": 8,
     "metadata": {},
     "output_type": "execute_result"
    }
   ],
   "source": [
    "xx[0][1]"
   ]
  },
  {
   "cell_type": "code",
   "execution_count": 9,
   "id": "55bd9b06-4597-4607-bb0c-ad34c69cef50",
   "metadata": {},
   "outputs": [
    {
     "name": "stdout",
     "output_type": "stream",
     "text": [
      "Job finished...\n"
     ]
    }
   ],
   "source": [
    "atom_num = []\n",
    "chirality = []\n",
    "\n",
    "for smiles in start['SMILES']:\n",
    "    mol = Chem.MolFromSmiles(smiles)\n",
    "    chiral = Chem.FindMolChiralCenters(mol)\n",
    "    atom_num.append(chiral[0][0])\n",
    "    chirality.append(chiral[0][1])\n",
    "print(\"Job finished...\")"
   ]
  },
  {
   "cell_type": "code",
   "execution_count": 10,
   "id": "676bf783-6ad2-4814-9d0d-6a5809efced8",
   "metadata": {},
   "outputs": [
    {
     "data": {
      "text/html": [
       "<div>\n",
       "<style scoped>\n",
       "    .dataframe tbody tr th:only-of-type {\n",
       "        vertical-align: middle;\n",
       "    }\n",
       "\n",
       "    .dataframe tbody tr th {\n",
       "        vertical-align: top;\n",
       "    }\n",
       "\n",
       "    .dataframe thead th {\n",
       "        text-align: right;\n",
       "    }\n",
       "</style>\n",
       "<table border=\"1\" class=\"dataframe\">\n",
       "  <thead>\n",
       "    <tr style=\"text-align: right;\">\n",
       "      <th></th>\n",
       "      <th>Unnamed: 0</th>\n",
       "      <th>Publikacja DOI</th>\n",
       "      <th>Numer związku w publikacji</th>\n",
       "      <th>SMILES</th>\n",
       "      <th>Atywność [nM]</th>\n",
       "      <th>A549</th>\n",
       "      <th>MCF-7</th>\n",
       "      <th>LoVo</th>\n",
       "      <th>LoVo/DX</th>\n",
       "      <th>BALB/3T3</th>\n",
       "      <th>A549_float</th>\n",
       "      <th>MCF-7_float</th>\n",
       "      <th>LoVo_float</th>\n",
       "      <th>LoVo/DX_float</th>\n",
       "      <th>BALB/3T3_float</th>\n",
       "      <th>atom_num</th>\n",
       "      <th>chirality</th>\n",
       "    </tr>\n",
       "  </thead>\n",
       "  <tbody>\n",
       "    <tr>\n",
       "      <th>0</th>\n",
       "      <td>0</td>\n",
       "      <td>https://doi.org/10.1016/j.bmcl.2021.128382</td>\n",
       "      <td>1</td>\n",
       "      <td>COc2c3C1=CC=C(SC)C(=O)C=C1[C@H](CCc3cc(OC)c2OC...</td>\n",
       "      <td>Atywność [nM]</td>\n",
       "      <td>10,8</td>\n",
       "      <td>10,3</td>\n",
       "      <td>6,5</td>\n",
       "      <td>54,9</td>\n",
       "      <td>10,2</td>\n",
       "      <td>10.8</td>\n",
       "      <td>10.3</td>\n",
       "      <td>6.5</td>\n",
       "      <td>54.9</td>\n",
       "      <td>10.2</td>\n",
       "      <td>14</td>\n",
       "      <td>S</td>\n",
       "    </tr>\n",
       "    <tr>\n",
       "      <th>1</th>\n",
       "      <td>1</td>\n",
       "      <td>https://doi.org/10.1016/j.bmcl.2021.128382</td>\n",
       "      <td>2</td>\n",
       "      <td>COc2c3C1=CC=C(SC)C(=O)C=C1[C@H](CCc3cc(OC)c2OC...</td>\n",
       "      <td>Atywność [nM]</td>\n",
       "      <td>11,6</td>\n",
       "      <td>12,0</td>\n",
       "      <td>8,5</td>\n",
       "      <td>31.1</td>\n",
       "      <td>14.3</td>\n",
       "      <td>11.6</td>\n",
       "      <td>12.0</td>\n",
       "      <td>8.5</td>\n",
       "      <td>31.1</td>\n",
       "      <td>14.3</td>\n",
       "      <td>14</td>\n",
       "      <td>S</td>\n",
       "    </tr>\n",
       "    <tr>\n",
       "      <th>2</th>\n",
       "      <td>2</td>\n",
       "      <td>https://doi.org/10.1016/j.bmcl.2021.128382</td>\n",
       "      <td>3</td>\n",
       "      <td>COc2c3C1=CC=C(SC)C(=O)C=C1[C@H](CCc3cc(OC)c2OC...</td>\n",
       "      <td>Atywność [nM]</td>\n",
       "      <td>10,9</td>\n",
       "      <td>12,2</td>\n",
       "      <td>8,8</td>\n",
       "      <td>17,9</td>\n",
       "      <td>11,7</td>\n",
       "      <td>10.9</td>\n",
       "      <td>12.2</td>\n",
       "      <td>8.8</td>\n",
       "      <td>17.9</td>\n",
       "      <td>11.7</td>\n",
       "      <td>14</td>\n",
       "      <td>S</td>\n",
       "    </tr>\n",
       "    <tr>\n",
       "      <th>3</th>\n",
       "      <td>3</td>\n",
       "      <td>https://doi.org/10.1016/j.bmcl.2021.128382</td>\n",
       "      <td>4</td>\n",
       "      <td>CC(C)CN[C@H]2CCc3cc(OC)c(OC)c(OC)c3C1=CC=C(SC)...</td>\n",
       "      <td>Atywność [nM]</td>\n",
       "      <td>10,5</td>\n",
       "      <td>11,3</td>\n",
       "      <td>8,5</td>\n",
       "      <td>10,2</td>\n",
       "      <td>11,0</td>\n",
       "      <td>10.5</td>\n",
       "      <td>11.3</td>\n",
       "      <td>8.5</td>\n",
       "      <td>10.2</td>\n",
       "      <td>11.0</td>\n",
       "      <td>5</td>\n",
       "      <td>S</td>\n",
       "    </tr>\n",
       "    <tr>\n",
       "      <th>4</th>\n",
       "      <td>4</td>\n",
       "      <td>https://doi.org/10.1016/j.bmcl.2021.128382</td>\n",
       "      <td>5</td>\n",
       "      <td>COc2c3C1=CC=C(SC)C(=O)C=C1[C@H](CCc3cc(OC)c2OC...</td>\n",
       "      <td>Atywność [nM]</td>\n",
       "      <td>89,5</td>\n",
       "      <td>92,7</td>\n",
       "      <td>52,8</td>\n",
       "      <td>77,8</td>\n",
       "      <td>99,4</td>\n",
       "      <td>89.5</td>\n",
       "      <td>92.7</td>\n",
       "      <td>52.8</td>\n",
       "      <td>77.8</td>\n",
       "      <td>99.4</td>\n",
       "      <td>14</td>\n",
       "      <td>S</td>\n",
       "    </tr>\n",
       "  </tbody>\n",
       "</table>\n",
       "</div>"
      ],
      "text/plain": [
       "   Unnamed: 0                              Publikacja DOI  \\\n",
       "0           0  https://doi.org/10.1016/j.bmcl.2021.128382   \n",
       "1           1  https://doi.org/10.1016/j.bmcl.2021.128382   \n",
       "2           2  https://doi.org/10.1016/j.bmcl.2021.128382   \n",
       "3           3  https://doi.org/10.1016/j.bmcl.2021.128382   \n",
       "4           4  https://doi.org/10.1016/j.bmcl.2021.128382   \n",
       "\n",
       "  Numer związku w publikacji  \\\n",
       "0                          1   \n",
       "1                          2   \n",
       "2                          3   \n",
       "3                          4   \n",
       "4                          5   \n",
       "\n",
       "                                              SMILES  Atywność [nM]   A549  \\\n",
       "0  COc2c3C1=CC=C(SC)C(=O)C=C1[C@H](CCc3cc(OC)c2OC...  Atywność [nM]  10,8    \n",
       "1  COc2c3C1=CC=C(SC)C(=O)C=C1[C@H](CCc3cc(OC)c2OC...  Atywność [nM]  11,6    \n",
       "2  COc2c3C1=CC=C(SC)C(=O)C=C1[C@H](CCc3cc(OC)c2OC...  Atywność [nM]  10,9    \n",
       "3  CC(C)CN[C@H]2CCc3cc(OC)c(OC)c(OC)c3C1=CC=C(SC)...  Atywność [nM]  10,5    \n",
       "4  COc2c3C1=CC=C(SC)C(=O)C=C1[C@H](CCc3cc(OC)c2OC...  Atywność [nM]  89,5    \n",
       "\n",
       "   MCF-7   LoVo LoVo/DX BALB/3T3  A549_float  MCF-7_float  LoVo_float  \\\n",
       "0  10,3    6,5    54,9     10,2         10.8         10.3         6.5   \n",
       "1  12,0    8,5     31.1     14.3        11.6         12.0         8.5   \n",
       "2  12,2    8,8    17,9     11,7         10.9         12.2         8.8   \n",
       "3  11,3    8,5    10,2     11,0         10.5         11.3         8.5   \n",
       "4  92,7   52,8    77,8     99,4         89.5         92.7        52.8   \n",
       "\n",
       "   LoVo/DX_float  BALB/3T3_float  atom_num chirality  \n",
       "0           54.9            10.2        14         S  \n",
       "1           31.1            14.3        14         S  \n",
       "2           17.9            11.7        14         S  \n",
       "3           10.2            11.0         5         S  \n",
       "4           77.8            99.4        14         S  "
      ]
     },
     "execution_count": 10,
     "metadata": {},
     "output_type": "execute_result"
    }
   ],
   "source": [
    "start['atom_num'] = atom_num\n",
    "start['chirality'] = chirality\n",
    "start.head()"
   ]
  },
  {
   "cell_type": "code",
   "execution_count": 11,
   "id": "bdb1cca2-4d2b-43ee-8231-5a6d9c061dcb",
   "metadata": {},
   "outputs": [],
   "source": [
    "r_struct = start[start['chirality'] == 'R']"
   ]
  },
  {
   "cell_type": "code",
   "execution_count": 12,
   "id": "eb183253-0613-4d89-a493-8ccbffe45293",
   "metadata": {},
   "outputs": [
    {
     "data": {
      "text/html": [
       "<div>\n",
       "<style scoped>\n",
       "    .dataframe tbody tr th:only-of-type {\n",
       "        vertical-align: middle;\n",
       "    }\n",
       "\n",
       "    .dataframe tbody tr th {\n",
       "        vertical-align: top;\n",
       "    }\n",
       "\n",
       "    .dataframe thead th {\n",
       "        text-align: right;\n",
       "    }\n",
       "</style>\n",
       "<table border=\"1\" class=\"dataframe\">\n",
       "  <thead>\n",
       "    <tr style=\"text-align: right;\">\n",
       "      <th></th>\n",
       "      <th>Unnamed: 0</th>\n",
       "      <th>Publikacja DOI</th>\n",
       "      <th>Numer związku w publikacji</th>\n",
       "      <th>SMILES</th>\n",
       "      <th>Atywność [nM]</th>\n",
       "      <th>A549</th>\n",
       "      <th>MCF-7</th>\n",
       "      <th>LoVo</th>\n",
       "      <th>LoVo/DX</th>\n",
       "      <th>BALB/3T3</th>\n",
       "      <th>A549_float</th>\n",
       "      <th>MCF-7_float</th>\n",
       "      <th>LoVo_float</th>\n",
       "      <th>LoVo/DX_float</th>\n",
       "      <th>BALB/3T3_float</th>\n",
       "      <th>atom_num</th>\n",
       "      <th>chirality</th>\n",
       "    </tr>\n",
       "  </thead>\n",
       "  <tbody>\n",
       "    <tr>\n",
       "      <th>22</th>\n",
       "      <td>22</td>\n",
       "      <td>https://doi.org/10.1016/j.bmcl.2021.128382</td>\n",
       "      <td>COLCH</td>\n",
       "      <td>COc3cc2CC[C@@H](NC(C)=O)c1cc(=O)c(OC)ccc1c2c(O...</td>\n",
       "      <td>Atywność [nM]</td>\n",
       "      <td>19,3</td>\n",
       "      <td>10,1</td>\n",
       "      <td>12,7</td>\n",
       "      <td>966,8</td>\n",
       "      <td>82,3</td>\n",
       "      <td>19.3</td>\n",
       "      <td>10.1</td>\n",
       "      <td>12.7</td>\n",
       "      <td>966.8</td>\n",
       "      <td>82.3</td>\n",
       "      <td>7</td>\n",
       "      <td>R</td>\n",
       "    </tr>\n",
       "    <tr>\n",
       "      <th>117</th>\n",
       "      <td>117</td>\n",
       "      <td>https://doi.org/10.1016/j.bmcl.2021.128197</td>\n",
       "      <td>26</td>\n",
       "      <td>OC[C@@H](O)[C@@H](O)[C@H](O)[C@@H](O)CNC(=S)N[...</td>\n",
       "      <td>Atywność [nM]</td>\n",
       "      <td>930</td>\n",
       "      <td>1200</td>\n",
       "      <td>680</td>\n",
       "      <td>6600</td>\n",
       "      <td>1300</td>\n",
       "      <td>930.0</td>\n",
       "      <td>1200.0</td>\n",
       "      <td>680.0</td>\n",
       "      <td>6600.0</td>\n",
       "      <td>1300.0</td>\n",
       "      <td>2</td>\n",
       "      <td>R</td>\n",
       "    </tr>\n",
       "  </tbody>\n",
       "</table>\n",
       "</div>"
      ],
      "text/plain": [
       "     Unnamed: 0                              Publikacja DOI  \\\n",
       "22           22  https://doi.org/10.1016/j.bmcl.2021.128382   \n",
       "117         117  https://doi.org/10.1016/j.bmcl.2021.128197   \n",
       "\n",
       "    Numer związku w publikacji  \\\n",
       "22                       COLCH   \n",
       "117                         26   \n",
       "\n",
       "                                                SMILES  Atywność [nM]   A549  \\\n",
       "22   COc3cc2CC[C@@H](NC(C)=O)c1cc(=O)c(OC)ccc1c2c(O...  Atywność [nM]  19,3    \n",
       "117  OC[C@@H](O)[C@@H](O)[C@H](O)[C@@H](O)CNC(=S)N[...  Atywność [nM]    930   \n",
       "\n",
       "     MCF-7   LoVo LoVo/DX BALB/3T3  A549_float  MCF-7_float  LoVo_float  \\\n",
       "22   10,1   12,7   966,8     82,3         19.3         10.1        12.7   \n",
       "117   1200    680    6600     1300       930.0       1200.0       680.0   \n",
       "\n",
       "     LoVo/DX_float  BALB/3T3_float  atom_num chirality  \n",
       "22           966.8            82.3         7         R  \n",
       "117         6600.0          1300.0         2         R  "
      ]
     },
     "execution_count": 12,
     "metadata": {},
     "output_type": "execute_result"
    }
   ],
   "source": [
    "r_struct"
   ]
  },
  {
   "cell_type": "code",
   "execution_count": 13,
   "id": "34466372-da85-4069-beac-255c54fa272f",
   "metadata": {},
   "outputs": [],
   "source": [
    "r_struct_0 = Chem.MolFromSmiles(r_struct['SMILES'][22]) # structure no. 23 in Kolchicyna_prepared_data.xlsx"
   ]
  },
  {
   "cell_type": "code",
   "execution_count": 14,
   "id": "cd5f99b9-2813-4607-adc9-bd48cef097a3",
   "metadata": {},
   "outputs": [
    {
     "data": {
      "image/png": "[encoded data removed]",
      "text/plain": [
       "<rdkit.Chem.rdchem.Mol at 0x2188899e2e0>"
      ]
     },
     "execution_count": 14,
     "metadata": {},
     "output_type": "execute_result"
    }
   ],
   "source": [
    "r_struct_0 ## correct SMILES is -> COc1cc2CC[C@H](NC(C)=O)c3cc(=O)c(OC)ccc3-c2c(OC)c1OC (Marvin Sketch Generated)"
   ]
  },
  {
   "cell_type": "code",
   "execution_count": 15,
   "id": "2cbeb74d-7fd6-40f7-9c83-11e9f0c1ba49",
   "metadata": {},
   "outputs": [
    {
     "data": {
      "text/plain": [
       "[(7, 'R')]"
      ]
     },
     "execution_count": 15,
     "metadata": {},
     "output_type": "execute_result"
    }
   ],
   "source": [
    "xx = Chem.FindMolChiralCenters(r_struct_0)\n",
    "xx"
   ]
  },
  {
   "cell_type": "code",
   "execution_count": 16,
   "id": "db2cc3ec-553b-414d-8bc8-1bc164bbc6c0",
   "metadata": {},
   "outputs": [
    {
     "data": {
      "text/plain": [
       "'COc3cc2CC[C@@H](NC(C)=O)c1cc(=O)c(OC)ccc1c2c(OC)c3OC'"
      ]
     },
     "execution_count": 16,
     "metadata": {},
     "output_type": "execute_result"
    }
   ],
   "source": [
    "r_struct['SMILES'][22] # -> This SMILES is for R absolute configuration colchicine, and the experiment was conducted for S absolute configuration colchicine"
   ]
  },
  {
   "cell_type": "code",
   "execution_count": 17,
   "id": "3828df68-ccf3-4082-b523-a328453ff570",
   "metadata": {},
   "outputs": [
    {
     "data": {
      "text/plain": [
       "[(7, 'S')]"
      ]
     },
     "execution_count": 17,
     "metadata": {},
     "output_type": "execute_result"
    }
   ],
   "source": [
    "Chem.FindMolChiralCenters(Chem.MolFromSmiles('COc1cc2CC[C@H](NC(C)=O)c3cc(=O)c(OC)ccc3-c2c(OC)c1OC'))"
   ]
  },
  {
   "cell_type": "code",
   "execution_count": 18,
   "id": "0ed5e7dc-a78b-4fd5-8c97-7d53bdd18948",
   "metadata": {},
   "outputs": [
    {
     "data": {
      "image/png": "[encoded data removed]",
      "text/plain": [
       "<rdkit.Chem.rdchem.Mol at 0x2188899e350>"
      ]
     },
     "execution_count": 18,
     "metadata": {},
     "output_type": "execute_result"
    }
   ],
   "source": [
    "Chem.MolFromSmiles('COc1cc2CC[C@H](NC(C)=O)c3cc(=O)c(OC)ccc3-c2c(OC)c1OC')"
   ]
  },
  {
   "cell_type": "code",
   "execution_count": 19,
   "id": "f8024fb9-b9a3-4c8b-b919-5ab144ea9dbe",
   "metadata": {},
   "outputs": [
    {
     "name": "stderr",
     "output_type": "stream",
     "text": [
      "C:\\Users\\aleks\\AppData\\Local\\Temp\\ipykernel_26592\\131833170.py:1: SettingWithCopyWarning: \n",
      "A value is trying to be set on a copy of a slice from a DataFrame\n",
      "\n",
      "See the caveats in the documentation: https://pandas.pydata.org/pandas-docs/stable/user_guide/indexing.html#returning-a-view-versus-a-copy\n",
      "  start['chirality'][22] = 'S'\n"
     ]
    }
   ],
   "source": [
    "start['chirality'][22] = 'S'"
   ]
  },
  {
   "cell_type": "code",
   "execution_count": 20,
   "id": "94df39e1-e107-4b97-a7b8-8eaf2b89f980",
   "metadata": {},
   "outputs": [
    {
     "data": {
      "image/png": "[encoded data removed]",
      "text/plain": [
       "<rdkit.Chem.rdchem.Mol at 0x2188899e040>"
      ]
     },
     "execution_count": 20,
     "metadata": {},
     "output_type": "execute_result"
    }
   ],
   "source": [
    "r_struct_1 = Chem.MolFromSmiles(r_struct['SMILES'][117])\n",
    "r_struct_1"
   ]
  },
  {
   "cell_type": "code",
   "execution_count": 21,
   "id": "7899707c-7b1c-4301-ade5-8826ceb59e68",
   "metadata": {},
   "outputs": [
    {
     "data": {
      "text/plain": [
       "[(2, 'R'), (4, 'R'), (6, 'R'), (8, 'S'), (15, 'S')]"
      ]
     },
     "execution_count": 21,
     "metadata": {},
     "output_type": "execute_result"
    }
   ],
   "source": [
    "xx = Chem.FindMolChiralCenters(r_struct_1)\n",
    "xx"
   ]
  },
  {
   "cell_type": "code",
   "execution_count": 22,
   "id": "c729dc9d-2a6e-4a05-a00c-c661088baace",
   "metadata": {},
   "outputs": [
    {
     "data": {
      "image/png": "[encoded data removed]",
      "text/plain": [
       "<rdkit.Chem.rdchem.Mol at 0x2188899e040>"
      ]
     },
     "execution_count": 22,
     "metadata": {},
     "output_type": "execute_result"
    }
   ],
   "source": [
    "show_atom_number(r_struct_1, 'atomLabel')"
   ]
  },
  {
   "cell_type": "code",
   "execution_count": 23,
   "id": "181d5e25-7d0c-4ee6-8456-3d7009e0b234",
   "metadata": {},
   "outputs": [
    {
     "name": "stderr",
     "output_type": "stream",
     "text": [
      "C:\\Users\\aleks\\AppData\\Local\\Temp\\ipykernel_26592\\2686388605.py:1: SettingWithCopyWarning: \n",
      "A value is trying to be set on a copy of a slice from a DataFrame\n",
      "\n",
      "See the caveats in the documentation: https://pandas.pydata.org/pandas-docs/stable/user_guide/indexing.html#returning-a-view-versus-a-copy\n",
      "  start['chirality'][117] = 'S'\n"
     ]
    }
   ],
   "source": [
    "start['chirality'][117] = 'S'"
   ]
  },
  {
   "cell_type": "code",
   "execution_count": 24,
   "id": "bd8c75a5-2b97-4358-9c54-8ef8da932271",
   "metadata": {},
   "outputs": [
    {
     "data": {
      "image/png": "[encoded data removed]",
      "text/plain": [
       "<Figure size 640x480 with 1 Axes>"
      ]
     },
     "metadata": {},
     "output_type": "display_data"
    }
   ],
   "source": [
    "fig, ax = plt.subplots()\n",
    "bar_container = ax.bar(['S', 'R', 'No chiral center'], [len(start[start['chirality'] == 'S']), len(start[start['chirality'] == 'R']), len(start[start['chirality'] == 'No chiral center'])])\n",
    "ax.set(xlabel = 'Absolute configuration of starting structures', ylabel='Number of compounds')\n",
    "plt.rc('grid', linestyle=\"-.\", color='black')\n",
    "plt.grid(False)\n",
    "ax.bar_label(bar_container, padding=2, label_type='edge')\n",
    "plt.savefig('chirality_starting.pdf', bbox_inches='tight')"
   ]
  },
  {
   "cell_type": "code",
   "execution_count": 25,
   "id": "13f52e87-a160-4a29-afbe-7033db7d7320",
   "metadata": {},
   "outputs": [
    {
     "data": {
      "text/plain": [
       "0"
      ]
     },
     "execution_count": 25,
     "metadata": {},
     "output_type": "execute_result"
    }
   ],
   "source": [
    "len(start[start['chirality'] == 'No chiral centre'])"
   ]
  },
  {
   "cell_type": "code",
   "execution_count": null,
   "id": "72965869-f0d8-4e10-b280-8502c046c763",
   "metadata": {},
   "outputs": [],
   "source": []
  },
  {
   "cell_type": "code",
   "execution_count": null,
   "id": "8f2232c1-dc20-42c7-bd5a-49f39a85ad4f",
   "metadata": {},
   "outputs": [],
   "source": []
  },
  {
   "cell_type": "code",
   "execution_count": 26,
   "id": "a74b266a-4abc-43dd-933d-04aa7a16156c",
   "metadata": {},
   "outputs": [
    {
     "name": "stdout",
     "output_type": "stream",
     "text": [
      "0 [(14, 'S')]\n",
      "1 [(14, 'S')]\n",
      "2 [(14, 'S')]\n",
      "3 [(5, 'S')]\n",
      "4 [(14, 'S')]\n",
      "5 [(6, 'S')]\n",
      "6 [(14, 'S')]\n",
      "7 [(7, 'S')]\n",
      "8 [(14, 'S')]\n",
      "9 [(14, 'S')]\n",
      "10 [(14, 'S')]\n",
      "11 [(13, 'S')]\n",
      "12 [(9, 'S')]\n",
      "13 [(11, 'S')]\n",
      "14 [(11, 'S')]\n",
      "15 [(9, 'S')]\n",
      "16 [(9, 'S')]\n",
      "17 [(9, 'S')]\n",
      "18 [(9, 'S')]\n",
      "19 [(14, 'S')]\n",
      "20 [(14, 'S')]\n",
      "21 [(14, 'S')]\n",
      "22 [(7, 'R')]\n",
      "23 [(7, 'S')]\n",
      "24 [(7, 'S')]\n",
      "25 [(4, 'S')]\n",
      "26 [(12, 'S')]\n",
      "27 [(13, 'S')]\n",
      "28 [(14, 'S')]\n",
      "29 [(4, 'S')]\n",
      "30 [(13, 'S')]\n",
      "31 [(14, 'S')]\n",
      "32 [(4, 'S')]\n",
      "33 [(16, 'S')]\n",
      "34 [(17, 'S')]\n",
      "35 [(18, 'S')]\n",
      "36 [(4, 'S')]\n",
      "37 [(17, 'S')]\n",
      "38 [(18, 'S')]\n",
      "39 [(4, 'S')]\n",
      "40 [(14, 'S')]\n",
      "41 [(14, 'S')]\n",
      "42 [(13, 'S')]\n",
      "43 [(13, 'S')]\n",
      "44 [(13, 'S')]\n",
      "45 [(13, 'S')]\n",
      "46 [(13, 'S')]\n",
      "47 [(13, 'S')]\n",
      "48 [(13, 'S')]\n",
      "49 [(9, 'S')]\n",
      "50 [(12, 'S')]\n",
      "51 [(13, 'S')]\n",
      "52 [(12, 'S')]\n",
      "53 [(13, 'S')]\n",
      "54 [(13, 'S')]\n",
      "55 [(9, 'S')]\n",
      "56 [(10, 'S')]\n",
      "57 [(8, 'S')]\n",
      "58 [(16, 'S')]\n",
      "59 [(10, 'S')]\n",
      "60 [(8, 'S')]\n",
      "61 [(24, 'S')]\n",
      "62 [(15, 'S')]\n",
      "63 [(19, 'S')]\n",
      "64 [(16, 'S')]\n",
      "65 [(13, 'S')]\n",
      "66 [(12, 'S')]\n",
      "67 [(24, 'S')]\n",
      "68 [(12, 'S')]\n",
      "69 [(14, 'S')]\n",
      "70 [(14, 'S')]\n",
      "71 [(19, 'S')]\n",
      "72 [(16, 'S')]\n",
      "73 [(13, 'S')]\n",
      "74 [(11, 'S')]\n",
      "75 [(12, 'S')]\n",
      "76 [(13, 'S')]\n",
      "77 [(14, 'S')]\n",
      "78 [(14, 'S')]\n",
      "79 [(15, 'S')]\n",
      "80 [(16, 'S')]\n",
      "81 [(14, 'S')]\n",
      "82 [(14, 'S')]\n",
      "83 [(14, 'S')]\n",
      "84 [(14, 'S')]\n",
      "85 [(5, 'S')]\n",
      "86 [(14, 'S')]\n",
      "87 [(14, 'S')]\n",
      "88 [(14, 'S')]\n",
      "89 [(7, 'S')]\n",
      "90 [(14, 'S')]\n",
      "91 [(9, 'S')]\n",
      "92 [(9, 'S')]\n",
      "93 [(13, 'S')]\n",
      "94 [(13, 'S')]\n",
      "95 [(4, 'S')]\n",
      "96 [(5, 'S')]\n",
      "97 [(7, 'S')]\n",
      "98 [(6, 'S')]\n",
      "99 [(8, 'S')]\n",
      "100 [(10, 'S')]\n",
      "101 [(3, 'S')]\n",
      "102 [(14, 'S')]\n",
      "103 [(11, 'S')]\n",
      "104 [(11, 'S')]\n",
      "105 [(14, 'S')]\n",
      "106 [(4, 'S')]\n",
      "107 [(5, 'S')]\n",
      "108 [(8, 'S')]\n",
      "109 [(6, 'S')]\n",
      "110 [(8, 'S')]\n",
      "111 [(10, 'S')]\n",
      "112 [(10, 'S')]\n",
      "113 [(3, 'S')]\n",
      "114 [(11, 'S')]\n",
      "115 [(14, 'S')]\n",
      "116 [(1, 'S'), (7, 'S'), (32, 'R'), (38, 'R'), (39, 'R')]\n",
      "117 [(2, 'R'), (4, 'R'), (6, 'R'), (8, 'S'), (15, 'S')]\n",
      "118 [(18, 'S')]\n",
      "119 [(4, 'S')]\n"
     ]
    }
   ],
   "source": [
    "for i, smiles in enumerate(start['SMILES']):\n",
    "    mol = Chem.MolFromSmiles(smiles)\n",
    "    chiral = Chem.FindMolChiralCenters(mol)\n",
    "    print(i, chiral)"
   ]
  },
  {
   "cell_type": "code",
   "execution_count": null,
   "id": "8a2545bb-2a9a-4968-b858-a2b8e5e230fa",
   "metadata": {},
   "outputs": [],
   "source": []
  },
  {
   "cell_type": "code",
   "execution_count": 27,
   "id": "cddd32e0-e736-4fb3-8c0e-19ce183cdbbf",
   "metadata": {},
   "outputs": [],
   "source": [
    "to_be_printed = pd.DataFrame(data=start['SMILES'], columns=['SMILES'])\n",
    "to_be_printed['Chirality'] = [Chem.FindMolChiralCenters(Chem.MolFromSmiles(smiles)) for smiles in to_be_printed['SMILES']]\n",
    "to_be_printed['Mol Image'] = [Chem.MolFromSmiles(smi) for smi in to_be_printed['SMILES']]\n",
    "PandasTools.SaveXlsxFromFrame(to_be_printed, '../Data/start_structures_chirality.xlsx', molCol='Mol Image')"
   ]
  },
  {
   "cell_type": "code",
   "execution_count": 28,
   "id": "3ce6a470-f481-4756-894f-ea4869852784",
   "metadata": {},
   "outputs": [
    {
     "data": {
      "text/html": [
       "<div>\n",
       "<style scoped>\n",
       "    .dataframe tbody tr th:only-of-type {\n",
       "        vertical-align: middle;\n",
       "    }\n",
       "\n",
       "    .dataframe tbody tr th {\n",
       "        vertical-align: top;\n",
       "    }\n",
       "\n",
       "    .dataframe thead th {\n",
       "        text-align: right;\n",
       "    }\n",
       "</style>\n",
       "<table border=\"1\" class=\"dataframe\">\n",
       "  <thead>\n",
       "    <tr style=\"text-align: right;\">\n",
       "      <th></th>\n",
       "      <th>SMILES</th>\n",
       "      <th>Chirality</th>\n",
       "      <th>Mol Image</th>\n",
       "    </tr>\n",
       "  </thead>\n",
       "  <tbody>\n",
       "    <tr>\n",
       "      <th>0</th>\n",
       "      <td>COc2c3C1=CC=C(SC)C(=O)C=C1[C@H](CCc3cc(OC)c2OC...</td>\n",
       "      <td>[(14, S)]</td>\n",
       "      <td>&lt;rdkit.Chem.rdchem.Mol object at 0x00000218896...</td>\n",
       "    </tr>\n",
       "    <tr>\n",
       "      <th>1</th>\n",
       "      <td>COc2c3C1=CC=C(SC)C(=O)C=C1[C@H](CCc3cc(OC)c2OC...</td>\n",
       "      <td>[(14, S)]</td>\n",
       "      <td>&lt;rdkit.Chem.rdchem.Mol object at 0x00000218896...</td>\n",
       "    </tr>\n",
       "    <tr>\n",
       "      <th>2</th>\n",
       "      <td>COc2c3C1=CC=C(SC)C(=O)C=C1[C@H](CCc3cc(OC)c2OC...</td>\n",
       "      <td>[(14, S)]</td>\n",
       "      <td>&lt;rdkit.Chem.rdchem.Mol object at 0x00000218896...</td>\n",
       "    </tr>\n",
       "    <tr>\n",
       "      <th>3</th>\n",
       "      <td>CC(C)CN[C@H]2CCc3cc(OC)c(OC)c(OC)c3C1=CC=C(SC)...</td>\n",
       "      <td>[(5, S)]</td>\n",
       "      <td>&lt;rdkit.Chem.rdchem.Mol object at 0x00000218896...</td>\n",
       "    </tr>\n",
       "    <tr>\n",
       "      <th>4</th>\n",
       "      <td>COc2c3C1=CC=C(SC)C(=O)C=C1[C@H](CCc3cc(OC)c2OC...</td>\n",
       "      <td>[(14, S)]</td>\n",
       "      <td>&lt;rdkit.Chem.rdchem.Mol object at 0x00000218896...</td>\n",
       "    </tr>\n",
       "  </tbody>\n",
       "</table>\n",
       "</div>"
      ],
      "text/plain": [
       "                                              SMILES  Chirality  \\\n",
       "0  COc2c3C1=CC=C(SC)C(=O)C=C1[C@H](CCc3cc(OC)c2OC...  [(14, S)]   \n",
       "1  COc2c3C1=CC=C(SC)C(=O)C=C1[C@H](CCc3cc(OC)c2OC...  [(14, S)]   \n",
       "2  COc2c3C1=CC=C(SC)C(=O)C=C1[C@H](CCc3cc(OC)c2OC...  [(14, S)]   \n",
       "3  CC(C)CN[C@H]2CCc3cc(OC)c(OC)c(OC)c3C1=CC=C(SC)...   [(5, S)]   \n",
       "4  COc2c3C1=CC=C(SC)C(=O)C=C1[C@H](CCc3cc(OC)c2OC...  [(14, S)]   \n",
       "\n",
       "                                           Mol Image  \n",
       "0  <rdkit.Chem.rdchem.Mol object at 0x00000218896...  \n",
       "1  <rdkit.Chem.rdchem.Mol object at 0x00000218896...  \n",
       "2  <rdkit.Chem.rdchem.Mol object at 0x00000218896...  \n",
       "3  <rdkit.Chem.rdchem.Mol object at 0x00000218896...  \n",
       "4  <rdkit.Chem.rdchem.Mol object at 0x00000218896...  "
      ]
     },
     "execution_count": 28,
     "metadata": {},
     "output_type": "execute_result"
    }
   ],
   "source": [
    "to_be_printed.head()"
   ]
  },
  {
   "cell_type": "code",
   "execution_count": 29,
   "id": "899919cb-f6a9-4cd5-b916-045ca0067636",
   "metadata": {},
   "outputs": [
    {
     "data": {
      "image/png": "[encoded data removed]",
      "text/plain": [
       "<rdkit.Chem.rdchem.Mol at 0x218897da890>"
      ]
     },
     "execution_count": 29,
     "metadata": {},
     "output_type": "execute_result"
    }
   ],
   "source": [
    "mol = Chem.MolFromSmiles('OC[C@@H](O)[C@@H](O)[C@H](O)[C@@H](O)CNC(=S)N[C@H]2CCc3cc(OC)c(OC)c(OC)c3C1=CC=C(NC)C(=O)C=C12')\n",
    "show_atom_number(mol, 'atomLabel')"
   ]
  },
  {
   "cell_type": "code",
   "execution_count": 30,
   "id": "2d629fb8-d32f-47e6-b1aa-f93ec59c9614",
   "metadata": {},
   "outputs": [
    {
     "data": {
      "image/png": "[encoded data removed]",
      "text/plain": [
       "<rdkit.Chem.rdchem.Mol at 0x218897da0b0>"
      ]
     },
     "execution_count": 30,
     "metadata": {},
     "output_type": "execute_result"
    }
   ],
   "source": [
    "mol = Chem.MolFromSmiles(to_be_printed.iloc[-2]['SMILES'])\n",
    "show_atom_number(mol, 'atomLabel')"
   ]
  },
  {
   "cell_type": "code",
   "execution_count": 31,
   "id": "1653f5ca-2d2a-46db-bcd2-e7d8ef050e02",
   "metadata": {},
   "outputs": [
    {
     "data": {
      "text/plain": [
       "'CC(C)(C)OC(=O)\\\\N=C(/NC(=O)OC(C)(C)C)N[C@H]2CCc3cc(OC)c(OC)c(OC)c3C1=CC=C(NC)C(=O)C=C12'"
      ]
     },
     "execution_count": 31,
     "metadata": {},
     "output_type": "execute_result"
    }
   ],
   "source": [
    "to_be_printed.iloc[-2]['SMILES']"
   ]
  },
  {
   "cell_type": "code",
   "execution_count": null,
   "id": "9f24105d-8d14-403a-bd8f-a4f145723ecb",
   "metadata": {},
   "outputs": [],
   "source": []
  },
  {
   "cell_type": "code",
   "execution_count": 32,
   "id": "b59154a4-16e6-4415-80f2-4f87937efbdf",
   "metadata": {},
   "outputs": [],
   "source": [
    "## new structures stereochemistry\n",
    "new = pd.read_excel('../Data/Whole_report.xlsx')"
   ]
  },
  {
   "cell_type": "code",
   "execution_count": 33,
   "id": "191450e7-ae12-4712-88c5-c4a43d56281e",
   "metadata": {},
   "outputs": [
    {
     "data": {
      "text/html": [
       "<div>\n",
       "<style scoped>\n",
       "    .dataframe tbody tr th:only-of-type {\n",
       "        vertical-align: middle;\n",
       "    }\n",
       "\n",
       "    .dataframe tbody tr th {\n",
       "        vertical-align: top;\n",
       "    }\n",
       "\n",
       "    .dataframe thead th {\n",
       "        text-align: right;\n",
       "    }\n",
       "</style>\n",
       "<table border=\"1\" class=\"dataframe\">\n",
       "  <thead>\n",
       "    <tr style=\"text-align: right;\">\n",
       "      <th></th>\n",
       "      <th>Unnamed: 0</th>\n",
       "      <th>SMILES</th>\n",
       "      <th>SYBA score</th>\n",
       "      <th>A549 [nM]</th>\n",
       "      <th>BALB/3T3 [nM]</th>\n",
       "      <th>LoVo [nM]</th>\n",
       "      <th>LoVo/DX [nM]</th>\n",
       "      <th>MCF-7 [nM]</th>\n",
       "    </tr>\n",
       "  </thead>\n",
       "  <tbody>\n",
       "    <tr>\n",
       "      <th>0</th>\n",
       "      <td>NaN</td>\n",
       "      <td>COC1=C2C3=CC=C(NC)C(=O)C=C3[C@H1](CCC2=CC(OC)=...</td>\n",
       "      <td>45.88</td>\n",
       "      <td>10.168579</td>\n",
       "      <td>6.200000</td>\n",
       "      <td>5.700000</td>\n",
       "      <td>136.586050</td>\n",
       "      <td>8.357629</td>\n",
       "    </tr>\n",
       "    <tr>\n",
       "      <th>1</th>\n",
       "      <td>NaN</td>\n",
       "      <td>COC1=C2C3=CC=C(NC)C(=O)C=C3[C@H1](CCC2=CC(OC)=...</td>\n",
       "      <td>68.25</td>\n",
       "      <td>10.648944</td>\n",
       "      <td>9.439809</td>\n",
       "      <td>17.460496</td>\n",
       "      <td>49.797629</td>\n",
       "      <td>10.167834</td>\n",
       "    </tr>\n",
       "    <tr>\n",
       "      <th>2</th>\n",
       "      <td>NaN</td>\n",
       "      <td>COC1=C2C3=CC=C(NC)C(=O)C=C3[C@H1](CCC2=CC(OC)=...</td>\n",
       "      <td>74.22</td>\n",
       "      <td>11.794066</td>\n",
       "      <td>30.305940</td>\n",
       "      <td>54.000000</td>\n",
       "      <td>37.606395</td>\n",
       "      <td>9.099151</td>\n",
       "    </tr>\n",
       "    <tr>\n",
       "      <th>3</th>\n",
       "      <td>NaN</td>\n",
       "      <td>COC1=C2C3=CC=C(NC)C(=O)C=C3[C@H1](CCC2=CC(OC)=...</td>\n",
       "      <td>40.43</td>\n",
       "      <td>6.400000</td>\n",
       "      <td>23.752895</td>\n",
       "      <td>8.570105</td>\n",
       "      <td>210.367783</td>\n",
       "      <td>5.400000</td>\n",
       "    </tr>\n",
       "    <tr>\n",
       "      <th>4</th>\n",
       "      <td>NaN</td>\n",
       "      <td>O=CC1=CN=NN1[C@H1]2CCC3=CC(OC)=C(OC)C(OC)=C3C4...</td>\n",
       "      <td>41.84</td>\n",
       "      <td>4.774935</td>\n",
       "      <td>11.772850</td>\n",
       "      <td>10.000000</td>\n",
       "      <td>1806.439871</td>\n",
       "      <td>12.029326</td>\n",
       "    </tr>\n",
       "  </tbody>\n",
       "</table>\n",
       "</div>"
      ],
      "text/plain": [
       "   Unnamed: 0                                             SMILES  SYBA score  \\\n",
       "0         NaN  COC1=C2C3=CC=C(NC)C(=O)C=C3[C@H1](CCC2=CC(OC)=...       45.88   \n",
       "1         NaN  COC1=C2C3=CC=C(NC)C(=O)C=C3[C@H1](CCC2=CC(OC)=...       68.25   \n",
       "2         NaN  COC1=C2C3=CC=C(NC)C(=O)C=C3[C@H1](CCC2=CC(OC)=...       74.22   \n",
       "3         NaN  COC1=C2C3=CC=C(NC)C(=O)C=C3[C@H1](CCC2=CC(OC)=...       40.43   \n",
       "4         NaN  O=CC1=CN=NN1[C@H1]2CCC3=CC(OC)=C(OC)C(OC)=C3C4...       41.84   \n",
       "\n",
       "   A549 [nM]  BALB/3T3 [nM]  LoVo [nM]  LoVo/DX [nM]  MCF-7 [nM]  \n",
       "0  10.168579       6.200000   5.700000    136.586050    8.357629  \n",
       "1  10.648944       9.439809  17.460496     49.797629   10.167834  \n",
       "2  11.794066      30.305940  54.000000     37.606395    9.099151  \n",
       "3   6.400000      23.752895   8.570105    210.367783    5.400000  \n",
       "4   4.774935      11.772850  10.000000   1806.439871   12.029326  "
      ]
     },
     "execution_count": 33,
     "metadata": {},
     "output_type": "execute_result"
    }
   ],
   "source": [
    "new.head()"
   ]
  },
  {
   "cell_type": "code",
   "execution_count": 34,
   "id": "a63f1123-367d-4858-be1e-c64e05cbcae1",
   "metadata": {},
   "outputs": [
    {
     "name": "stdout",
     "output_type": "stream",
     "text": [
      "Job finished...\n"
     ]
    }
   ],
   "source": [
    "atom_num = []\n",
    "chirality = []\n",
    "issue = []\n",
    "for smiles in new['SMILES']:\n",
    "    try:\n",
    "        mol = Chem.MolFromSmiles(smiles)\n",
    "        chiral = Chem.FindMolChiralCenters(mol)\n",
    "        atom_num.append(chiral[0][0])\n",
    "        chirality.append(chiral[0][1])\n",
    "    except:\n",
    "        issue.append(smiles)\n",
    "print(\"Job finished...\")"
   ]
  },
  {
   "cell_type": "code",
   "execution_count": 35,
   "id": "1acb608d-1551-4d53-97da-725c31a3743d",
   "metadata": {},
   "outputs": [
    {
     "data": {
      "text/plain": [
       "['CC(=O)N[C@@H1]C1=C2C(C(NC)=CC=C1C3=C(OC)C(OC)=C(OC)C=C3CC2)=O',\n",
       " 'CNC(NCCCC)=S[C@@H1]C1=CC(=O)C(NC)=CC=C1C2=C(C=C(OC)C(=C2OC)OC)CCF',\n",
       " 'C1=2[C@H1]CCC3=CC(OC)=C(OC)C(OC(CC)=O)=C3C1=CC=C(C(C=2)=O)SCNC(=O)CSC',\n",
       " 'O=C(C1=C(C(OCC)=O)N(N=N1)[C@@H1]C2=C3C(C(NC)=CC=C2C4=C(C(OC)=C(OC)C=C4CC3)OC)=O)O',\n",
       " 'C=12N(N=NC=1C(OCC3=CC=C(C=C3)F)=O)C(OC)=C(OC)C(OC)=CC4=CC=C(C(=O)C=C24)NC',\n",
       " 'C=1N(N=NC=1C(=O)OCC2=CC=C(C=C2)F)CC(OC)=C(OC)C(OC)=CC3=CC=C(NC)C(=O)C=C3',\n",
       " 'O=CC1=C(C(OCC)=O)N(N=N1)[C@@H1]C2=C3C(C(NC)=CC=C2C4=C(C(OC)=C(OC)C=C4CC3)OC)=O',\n",
       " 'O=C(O)C1=C(C(OCC)=O)N=NN1[C@H1]CCC2=CC(OC)=C(OC)C(OC)=C2C3=CC=C(C(C=C3)=O)NC',\n",
       " 'CCCCCCCCCCCCCCCC(OCC1=CN(N=N1)[C@H1]C2CC3=CC(OC)=C(OC)C(OC)=C3C4=CC=C(C(=O)C=C24)NC)=O',\n",
       " 'OC(=O)C1=C(C(OCC)=O)N(N=N1)[C@H1]C2CC3=CC(OC)=C(OC)C(OC)=C3C4=CC=C(NC)C(=O)C=C42',\n",
       " 'N(C)C(=O)NCCC(OCC1=CN(N=N1)[C@H1]CCC2=CC(OC)=C(OC)C(OC)=C2C3=CC=C(C(=O)C=C3)N)C=O',\n",
       " 'CC(C)(C)OC(=O)NCCC(NCC=1N=NN(C=1)[C@H1]C2CC3=CC(OC)=C(OC)C(OC)=C3C4=CC=C(C(=O)C=C24)N)C=O',\n",
       " 'CC(C)(C)OC(=O)NCCC(OCC=1N=NN(C=1)[C@H1]C2CC3=CC(OC)=C(OC)C(OC)=C3C4=CC=C(C(=O)C=C24)NC)=O',\n",
       " 'N(C(C)C)CC(=O)OCC1=C2N(N=N1)[C@H1]CCC3=CC(OC)=C(OC)C(OC)=C3C4=CC=C(NC)C(C=C24)=O',\n",
       " 'CC(CC)N[C@@H1]C1=C2C(C(NC)=CC=C1C3=C(OC)C(OC)=C(OC)C=C3CC2)=O',\n",
       " 'NC(=O)N[C@@H1]C1=C2C(C(NC)=CC=C1C3=C(OC)C(OC)=C(OC)C=C3CC2)=O',\n",
       " 'CC(C)NC(=O)N1[C@@H1]C2=CC(C(NC)=CC=C2C3=C(OC)C(OC)=C(OC)C=C3CC1)=O',\n",
       " 'CC(C)N(C(C)C)C(=O)N[C@@H1]C1=CC(C(NC)=CC=C1C2=C(OC)C(OC)=C(OC)C=C2CC)=O',\n",
       " 'C1=2[C@H1]CCC3=CC(OC)=C(OC)C(OC)=C3C1=CC=C(C(C=2)=O)SCNC(C)=O',\n",
       " 'N(C(C)C)(C(C)C)C(=O)N1[C@H1]CCC2=C(C(OC)=C(OC)C(OC)=C2)C3=CC=C(NC)C(C=C31)=O',\n",
       " 'NC(=S)N1[C@@H1]C2=CC(C(NC)=CC=C2C3=C(OC)C(OC)=C(OC)C=C3CC1)=O',\n",
       " 'OCCN(CCO)C(=S)N1[C@@H1]C2=CC(C(NC)=CC=C2C3=C(OC)C(OC)=C(OC)C=C3CC1)=O',\n",
       " 'CC(C)CCN[C@H1]C1CC2=CC(OC)=C(OC)C(OC)=C2C3=CC=C(SC)C(C=C31)=O',\n",
       " 'OC1=C(C=CC=C1)CN2[C@H1]CCC3=CC(OC)=C(OC)C(OC)=C3C4=CC=C(SC)C(C=C24)=O',\n",
       " 'CC(=O)N1[C@H1]CCC2=CC(OC)=C(OC)C(OC)=C2C3=CC=C(NC)C(C=C31)=O',\n",
       " 'CC(C)(C)OC1=CN(N=N1)[C@H1]C2CC3=CC(OC)=C(OC)C(OC)=C3C4=CC=C(NC)C(=O)C=C42',\n",
       " 'OC(CCC(C)C)OCC1=CN(N=N1)[C@H1]CCC2=CC(OC)=C(OC)C(OC)=C2C3=CC=C(C(=O)C=C3)NC',\n",
       " 'OC1=C(C=CC=C1)C=2N=NN(C=2)[C@H1]C3CC4=CC(OC)=C(OC)C(OC)=C4C5=CC=C(NC)C(=O)C=C53',\n",
       " 'OC1=C(C=CC=C1)C=2N=NN(C=2)[C@H1]CCC3=CC(OC)=C(OC)C(OC)=C3C4=CC=C(NC)C(=O)C=C4',\n",
       " 'O=C(OCC)CN(CCC)C[C@H1]C1CC2=CC(OC)=C(OC)C(OC)=C2C3=CC=C(SC)C(=O)C=C31',\n",
       " 'CC(C)(C)OC(=O)NCCC(NCC=1N=NN(C=1)[C@H1]CCC2=CC(OC)=C(OC)C=C2C3=CC=C(NC)C(C=C3)=O)OC=O',\n",
       " 'CC(C)(C)OCNCCC(=O)NCC1=CN(N=N1)[C@H1]C2CC3=CC(OC)=C(OC)C(OC)=C3C4=CC=C(C(=O)C=C24)NC=O',\n",
       " 'CC(C)(C)OC(=O)NCCC(OCC=1N=NN(C=1)[C@H1]CCC2=CC(OC)=C(OC)C(=C2C3=CC=C(NC)C(=O)C=C3)O)C=O',\n",
       " 'O=C(OC(C)(C)C)NCC=1N=NN(C=1)[C@H1]C2CC3=CC(OC)=C(OC)C(OC)=C3C4=CC=C(NC)C(=O)C=C42',\n",
       " 'CC(C)COC(NCC1=CN(N=N1)[C@H1]C2CC3=CC(OC)=C(OC)C(OC)=C3C4=CC=C(C(=O)C=C24)NC)=O',\n",
       " 'O=C(OCC)C1=C(C(OCC)=O)N=NN1[C@H1]CCC2=CC(OC)=C(OC)C(OC)=C2C3=CC=C(NC)C(C=C3)=O',\n",
       " 'CC(CC)N[C@H1]C1CC2=CC(OC)=C(OC)C(OC)=C2C3=CC=C(C(C=C31)=O)NCC',\n",
       " 'CC(CC)N[C@H1]C1CC2=CC(OC)=C(OC)C(OC)=C2C3=CC=C(NC)C(=O)C=C31',\n",
       " 'CCN(CC)C(=O)N[C@H1]C1CC2=CC(OC)=C(OC)C(OC)=C2C3=CC=C(C(C=C31)=O)NC',\n",
       " 'CCN(CC)C(=O)N1[C@H1]CCC2=CC(OC)=C(OC)C(OC)=C2C3=CC=C(NC)C(C=C31)=O',\n",
       " 'NC(=O)N1[C@@H1]C2=CC(C(NC)=CC=C2C3=C(OC)C(OC)=C(OC)C=C3CC1)=O',\n",
       " 'C1=2[C@H1]CCC3=CC(OC)=C(OC)C(OC)=C3C1=CC=C(C(=O)C=2)NCNC(C)=O']"
      ]
     },
     "execution_count": 35,
     "metadata": {},
     "output_type": "execute_result"
    }
   ],
   "source": [
    "issue"
   ]
  },
  {
   "cell_type": "code",
   "execution_count": 36,
   "id": "e1c3fa0d-f95c-40ed-8dc8-1430e8eb5aae",
   "metadata": {},
   "outputs": [
    {
     "data": {
      "text/plain": [
       "[]"
      ]
     },
     "execution_count": 36,
     "metadata": {},
     "output_type": "execute_result"
    }
   ],
   "source": [
    "mol = Chem.MolFromSmiles(issue[0])\n",
    "chiral = Chem.FindMolChiralCenters(mol)\n",
    "chiral"
   ]
  },
  {
   "cell_type": "code",
   "execution_count": 37,
   "id": "283274ce-8a4d-452c-8ecc-51c605ff8733",
   "metadata": {},
   "outputs": [
    {
     "data": {
      "image/png": "[encoded data removed]",
      "text/plain": [
       "<rdkit.Chem.rdchem.Mol at 0x21889857e40>"
      ]
     },
     "execution_count": 37,
     "metadata": {},
     "output_type": "execute_result"
    }
   ],
   "source": [
    "mol"
   ]
  },
  {
   "cell_type": "code",
   "execution_count": 38,
   "id": "57315891-7b9b-4594-b565-bd8696a445f5",
   "metadata": {},
   "outputs": [
    {
     "name": "stdout",
     "output_type": "stream",
     "text": [
      "[]\n"
     ]
    },
    {
     "data": {
      "image/png": "[encoded data removed]",
      "text/plain": [
       "<rdkit.Chem.rdchem.Mol at 0x21889857cf0>"
      ]
     },
     "execution_count": 38,
     "metadata": {},
     "output_type": "execute_result"
    }
   ],
   "source": [
    "mol = Chem.MolFromSmiles(issue[1])\n",
    "chiral = Chem.FindMolChiralCenters(mol)\n",
    "print(chiral)\n",
    "mol"
   ]
  },
  {
   "cell_type": "code",
   "execution_count": 39,
   "id": "19efc27d-cc05-43ae-8200-90622457dbd3",
   "metadata": {},
   "outputs": [
    {
     "name": "stdout",
     "output_type": "stream",
     "text": [
      "[]\n"
     ]
    },
    {
     "data": {
      "image/png": "[encoded data removed]",
      "text/plain": [
       "<rdkit.Chem.rdchem.Mol at 0x21889857ac0>"
      ]
     },
     "execution_count": 39,
     "metadata": {},
     "output_type": "execute_result"
    }
   ],
   "source": [
    "mol = Chem.MolFromSmiles(issue[2])\n",
    "chiral = Chem.FindMolChiralCenters(mol)\n",
    "print(chiral)\n",
    "mol"
   ]
  },
  {
   "cell_type": "code",
   "execution_count": 40,
   "id": "8060d9ce-96c0-485f-940f-2b0cae93a848",
   "metadata": {},
   "outputs": [
    {
     "data": {
      "text/plain": [
       "42"
      ]
     },
     "execution_count": 40,
     "metadata": {},
     "output_type": "execute_result"
    }
   ],
   "source": [
    "len(issue)"
   ]
  },
  {
   "cell_type": "code",
   "execution_count": 41,
   "id": "8985d582-2f24-4465-b242-677f736e2353",
   "metadata": {},
   "outputs": [
    {
     "name": "stdout",
     "output_type": "stream",
     "text": [
      "Job finished...\n"
     ]
    }
   ],
   "source": [
    "atom_num = []\n",
    "chirality = []\n",
    "issue = []\n",
    "for smiles in new['SMILES']:\n",
    "    mol = Chem.MolFromSmiles(smiles)\n",
    "    chiral = Chem.FindMolChiralCenters(mol)\n",
    "    try:\n",
    "        atom_num.append(chiral[0][0])\n",
    "        chirality.append(chiral[0][1])\n",
    "    except:\n",
    "        atom_num.append(0)\n",
    "        chirality.append('No chiral center')\n",
    "print(\"Job finished...\")"
   ]
  },
  {
   "cell_type": "code",
   "execution_count": 42,
   "id": "f69f8e05-8034-45e3-a255-60e171064fbc",
   "metadata": {},
   "outputs": [
    {
     "data": {
      "text/html": [
       "<div>\n",
       "<style scoped>\n",
       "    .dataframe tbody tr th:only-of-type {\n",
       "        vertical-align: middle;\n",
       "    }\n",
       "\n",
       "    .dataframe tbody tr th {\n",
       "        vertical-align: top;\n",
       "    }\n",
       "\n",
       "    .dataframe thead th {\n",
       "        text-align: right;\n",
       "    }\n",
       "</style>\n",
       "<table border=\"1\" class=\"dataframe\">\n",
       "  <thead>\n",
       "    <tr style=\"text-align: right;\">\n",
       "      <th></th>\n",
       "      <th>Unnamed: 0</th>\n",
       "      <th>SMILES</th>\n",
       "      <th>SYBA score</th>\n",
       "      <th>A549 [nM]</th>\n",
       "      <th>BALB/3T3 [nM]</th>\n",
       "      <th>LoVo [nM]</th>\n",
       "      <th>LoVo/DX [nM]</th>\n",
       "      <th>MCF-7 [nM]</th>\n",
       "      <th>atom_num</th>\n",
       "      <th>chirality</th>\n",
       "    </tr>\n",
       "  </thead>\n",
       "  <tbody>\n",
       "    <tr>\n",
       "      <th>0</th>\n",
       "      <td>NaN</td>\n",
       "      <td>COC1=C2C3=CC=C(NC)C(=O)C=C3[C@H1](CCC2=CC(OC)=...</td>\n",
       "      <td>45.88</td>\n",
       "      <td>10.168579</td>\n",
       "      <td>6.200000</td>\n",
       "      <td>5.700000</td>\n",
       "      <td>136.586050</td>\n",
       "      <td>8.357629</td>\n",
       "      <td>14</td>\n",
       "      <td>S</td>\n",
       "    </tr>\n",
       "    <tr>\n",
       "      <th>1</th>\n",
       "      <td>NaN</td>\n",
       "      <td>COC1=C2C3=CC=C(NC)C(=O)C=C3[C@H1](CCC2=CC(OC)=...</td>\n",
       "      <td>68.25</td>\n",
       "      <td>10.648944</td>\n",
       "      <td>9.439809</td>\n",
       "      <td>17.460496</td>\n",
       "      <td>49.797629</td>\n",
       "      <td>10.167834</td>\n",
       "      <td>14</td>\n",
       "      <td>S</td>\n",
       "    </tr>\n",
       "    <tr>\n",
       "      <th>2</th>\n",
       "      <td>NaN</td>\n",
       "      <td>COC1=C2C3=CC=C(NC)C(=O)C=C3[C@H1](CCC2=CC(OC)=...</td>\n",
       "      <td>74.22</td>\n",
       "      <td>11.794066</td>\n",
       "      <td>30.305940</td>\n",
       "      <td>54.000000</td>\n",
       "      <td>37.606395</td>\n",
       "      <td>9.099151</td>\n",
       "      <td>14</td>\n",
       "      <td>S</td>\n",
       "    </tr>\n",
       "    <tr>\n",
       "      <th>3</th>\n",
       "      <td>NaN</td>\n",
       "      <td>COC1=C2C3=CC=C(NC)C(=O)C=C3[C@H1](CCC2=CC(OC)=...</td>\n",
       "      <td>40.43</td>\n",
       "      <td>6.400000</td>\n",
       "      <td>23.752895</td>\n",
       "      <td>8.570105</td>\n",
       "      <td>210.367783</td>\n",
       "      <td>5.400000</td>\n",
       "      <td>14</td>\n",
       "      <td>S</td>\n",
       "    </tr>\n",
       "    <tr>\n",
       "      <th>4</th>\n",
       "      <td>NaN</td>\n",
       "      <td>O=CC1=CN=NN1[C@H1]2CCC3=CC(OC)=C(OC)C(OC)=C3C4...</td>\n",
       "      <td>41.84</td>\n",
       "      <td>4.774935</td>\n",
       "      <td>11.772850</td>\n",
       "      <td>10.000000</td>\n",
       "      <td>1806.439871</td>\n",
       "      <td>12.029326</td>\n",
       "      <td>7</td>\n",
       "      <td>S</td>\n",
       "    </tr>\n",
       "  </tbody>\n",
       "</table>\n",
       "</div>"
      ],
      "text/plain": [
       "   Unnamed: 0                                             SMILES  SYBA score  \\\n",
       "0         NaN  COC1=C2C3=CC=C(NC)C(=O)C=C3[C@H1](CCC2=CC(OC)=...       45.88   \n",
       "1         NaN  COC1=C2C3=CC=C(NC)C(=O)C=C3[C@H1](CCC2=CC(OC)=...       68.25   \n",
       "2         NaN  COC1=C2C3=CC=C(NC)C(=O)C=C3[C@H1](CCC2=CC(OC)=...       74.22   \n",
       "3         NaN  COC1=C2C3=CC=C(NC)C(=O)C=C3[C@H1](CCC2=CC(OC)=...       40.43   \n",
       "4         NaN  O=CC1=CN=NN1[C@H1]2CCC3=CC(OC)=C(OC)C(OC)=C3C4...       41.84   \n",
       "\n",
       "   A549 [nM]  BALB/3T3 [nM]  LoVo [nM]  LoVo/DX [nM]  MCF-7 [nM]  atom_num  \\\n",
       "0  10.168579       6.200000   5.700000    136.586050    8.357629        14   \n",
       "1  10.648944       9.439809  17.460496     49.797629   10.167834        14   \n",
       "2  11.794066      30.305940  54.000000     37.606395    9.099151        14   \n",
       "3   6.400000      23.752895   8.570105    210.367783    5.400000        14   \n",
       "4   4.774935      11.772850  10.000000   1806.439871   12.029326         7   \n",
       "\n",
       "  chirality  \n",
       "0         S  \n",
       "1         S  \n",
       "2         S  \n",
       "3         S  \n",
       "4         S  "
      ]
     },
     "execution_count": 42,
     "metadata": {},
     "output_type": "execute_result"
    }
   ],
   "source": [
    "new['atom_num'] = atom_num\n",
    "new['chirality'] = chirality\n",
    "new.head()"
   ]
  },
  {
   "cell_type": "code",
   "execution_count": null,
   "id": "8d3a505c-0594-40b4-97a7-aedaa11cd312",
   "metadata": {},
   "outputs": [],
   "source": []
  },
  {
   "cell_type": "code",
   "execution_count": 43,
   "id": "87a9cfe6-a1f7-4eca-a7f7-71dd42038b1e",
   "metadata": {},
   "outputs": [],
   "source": [
    "to_be_printed = pd.DataFrame(data=new['SMILES'], columns=['SMILES'])\n",
    "chirality = []\n",
    "for i, smiles in enumerate(new['SMILES']):\n",
    "    mol = Chem.MolFromSmiles(smiles)\n",
    "    \n",
    "    chiral = Chem.FindMolChiralCenters(mol)\n",
    "    if len(chiral) > 0:\n",
    "        \n",
    "        chirality.append(chiral)\n",
    "    else:\n",
    "        chirality.append('No chiral center')\n",
    "\n",
    "to_be_printed['Chirality'] = chirality\n",
    "to_be_printed['Mol Image'] = [Chem.MolFromSmiles(smi) for smi in to_be_printed['SMILES']]\n",
    "PandasTools.SaveXlsxFromFrame(to_be_printed, '../Data/new_structures_chirality.xlsx', molCol='Mol Image')"
   ]
  },
  {
   "cell_type": "code",
   "execution_count": null,
   "id": "3c81e3ca-7940-4fdb-a83f-257ef130804e",
   "metadata": {},
   "outputs": [],
   "source": []
  },
  {
   "cell_type": "code",
   "execution_count": 44,
   "id": "f38a856a-c9e2-460a-90ca-332743dfa208",
   "metadata": {},
   "outputs": [
    {
     "data": {
      "image/png": "[encoded data removed]",
      "text/plain": [
       "<rdkit.Chem.rdchem.Mol at 0x218898e70b0>"
      ]
     },
     "execution_count": 44,
     "metadata": {},
     "output_type": "execute_result"
    }
   ],
   "source": [
    "mol = Chem.MolFromSmiles('CC(=O)N[C@@H1]C1=C2C(C(NC)=CC=C1C3=C(OC)C(OC)=C(OC)C=C3CC2)=O')\n",
    "show_atom_number(mol, 'atomLabel')"
   ]
  },
  {
   "cell_type": "code",
   "execution_count": 45,
   "id": "2777424f-67fc-433c-9041-9ad8fe8f1601",
   "metadata": {},
   "outputs": [
    {
     "data": {
      "image/png": "[encoded data removed]",
      "text/plain": [
       "<rdkit.Chem.rdchem.Mol at 0x218898e7350>"
      ]
     },
     "execution_count": 45,
     "metadata": {},
     "output_type": "execute_result"
    }
   ],
   "source": [
    "mol = Chem.MolFromSmiles('CN(C(=S)N[C@@H1]1C2=CC(=O)C(NC)=CC=C2C3=C(C=C(OC)C(OC)=C3OC)CC1C)C#N')\n",
    "show_atom_number(mol, 'atomLabel')"
   ]
  },
  {
   "cell_type": "code",
   "execution_count": 46,
   "id": "31ba91cb-50c4-42f3-9cb9-91755c46a8fc",
   "metadata": {},
   "outputs": [
    {
     "data": {
      "image/png": "[encoded data removed]",
      "text/plain": [
       "<rdkit.Chem.rdchem.Mol at 0x218898e7430>"
      ]
     },
     "execution_count": 46,
     "metadata": {},
     "output_type": "execute_result"
    }
   ],
   "source": [
    "mol = Chem.MolFromSmiles('C1=2[C@H1](CCC3=CC(OC)=C(OC)C(OC)=C3C1=CC=C(C(=O)C=2)NCO)C(C(OC)=O)NC(=O)CNC')\n",
    "show_atom_number(mol, 'atomLabel')"
   ]
  },
  {
   "cell_type": "code",
   "execution_count": 47,
   "id": "3251d995-eb9a-462e-ad45-6af0e3aa010f",
   "metadata": {},
   "outputs": [
    {
     "data": {
      "image/png": "[encoded data removed]",
      "text/plain": [
       "<rdkit.Chem.rdchem.Mol at 0x218898e7580>"
      ]
     },
     "execution_count": 47,
     "metadata": {},
     "output_type": "execute_result"
    }
   ],
   "source": [
    "mol = Chem.MolFromSmiles('C[C@H1](NCC)CC1=CC(C(NC)=CC=C1C2=C(C=C(OC)C(OC)=C2OCC3=CC=CC=C3)OSCC)=O')\n",
    "show_atom_number(mol, 'atomLabel')"
   ]
  },
  {
   "cell_type": "code",
   "execution_count": 48,
   "id": "27ddfee9-159e-4c1d-81d7-f7e41d842366",
   "metadata": {},
   "outputs": [
    {
     "data": {
      "image/png": "[encoded data removed]",
      "text/plain": [
       "<rdkit.Chem.rdchem.Mol at 0x218898e7900>"
      ]
     },
     "execution_count": 48,
     "metadata": {},
     "output_type": "execute_result"
    }
   ],
   "source": [
    "mol = Chem.MolFromSmiles('N1(CCCC1)C(=O)OC2=C(OC)C(OC3)=CC=C2C4=CC=C(SC)C(C=C4[C@@H1](NC(=O)C)CC3)=O')\n",
    "show_atom_number(mol, 'atomLabel')"
   ]
  },
  {
   "cell_type": "code",
   "execution_count": 49,
   "id": "e291d5c4-0af2-467f-95a9-628aecfd61d1",
   "metadata": {},
   "outputs": [
    {
     "data": {
      "image/png": "[encoded data removed]",
      "text/plain": [
       "<rdkit.Chem.rdchem.Mol at 0x218898e7510>"
      ]
     },
     "execution_count": 49,
     "metadata": {},
     "output_type": "execute_result"
    }
   ],
   "source": [
    "mol = Chem.MolFromSmiles('C1[C@H1](C2=CC(C(SC)=CC=C2C3=C(OC)C(=C(OC)C=C3C1)OC)=O)NCC')\n",
    "show_atom_number(mol, 'atomLabel')"
   ]
  },
  {
   "cell_type": "code",
   "execution_count": 50,
   "id": "98a1d57a-0277-4fe3-8ed9-b57eaa688dbf",
   "metadata": {},
   "outputs": [
    {
     "data": {
      "image/png": "[encoded data removed]",
      "text/plain": [
       "<rdkit.Chem.rdchem.Mol at 0x218898e7120>"
      ]
     },
     "execution_count": 50,
     "metadata": {},
     "output_type": "execute_result"
    }
   ],
   "source": [
    "mol = Chem.MolFromSmiles('O=C(OCC)C=1N(N=NC=1C(=O)O2)[C@H1]2NC(=S)N[C@H1]3CCC4=CC(OC)=C(OC)C(OC)=C4C=5C3=CC(C(=CC=5)NC)=O')\n",
    "show_atom_number(mol, 'atomLabel')"
   ]
  },
  {
   "cell_type": "code",
   "execution_count": null,
   "id": "32f2b15f-c1c0-407f-b63c-ecadac3aedb7",
   "metadata": {},
   "outputs": [],
   "source": []
  },
  {
   "cell_type": "code",
   "execution_count": null,
   "id": "254e102c-e110-47f1-a19b-226496275576",
   "metadata": {},
   "outputs": [],
   "source": []
  },
  {
   "cell_type": "code",
   "execution_count": null,
   "id": "d9771162-815f-427b-9766-0221c3d2321c",
   "metadata": {},
   "outputs": [],
   "source": []
  },
  {
   "cell_type": "code",
   "execution_count": 51,
   "id": "403bef90-6c53-4bde-817c-bb554333aaf1",
   "metadata": {},
   "outputs": [
    {
     "data": {
      "image/png": "[encoded data removed]",
      "text/plain": [
       "<Figure size 640x480 with 1 Axes>"
      ]
     },
     "metadata": {},
     "output_type": "display_data"
    }
   ],
   "source": [
    "fig, ax = plt.subplots()\n",
    "bar_container = ax.bar(['S', 'R', 'No chiral center'], [len(new[new['chirality'] == 'S']), len(new[new['chirality'] == 'R']), len(new[new['chirality'] == 'No chiral center'])])\n",
    "ax.set(xlabel = 'Absolute configuration of new structures', ylabel='Number of compounds')\n",
    "plt.rc('grid', linestyle=\"-.\", color='black')\n",
    "plt.grid(False)\n",
    "ax.bar_label(bar_container, padding=2, label_type='edge')\n",
    "plt.savefig('chirality_new.pdf', bbox_inches='tight')"
   ]
  },
  {
   "cell_type": "code",
   "execution_count": 52,
   "id": "5b191a63-ef1a-4e5c-830b-723156bbfa8b",
   "metadata": {},
   "outputs": [
    {
     "data": {
      "text/plain": [
       "285"
      ]
     },
     "execution_count": 52,
     "metadata": {},
     "output_type": "execute_result"
    }
   ],
   "source": [
    "len(new[new['chirality'] =='S'])"
   ]
  },
  {
   "cell_type": "code",
   "execution_count": 53,
   "id": "88d411e4-2f71-4130-aaa8-e32f483ece42",
   "metadata": {},
   "outputs": [
    {
     "data": {
      "text/plain": [
       "8"
      ]
     },
     "execution_count": 53,
     "metadata": {},
     "output_type": "execute_result"
    }
   ],
   "source": [
    "len(new[new['chirality'] =='R'])"
   ]
  },
  {
   "cell_type": "code",
   "execution_count": 54,
   "id": "e8461ab8-dfdd-4089-a62f-1e218f6b978d",
   "metadata": {},
   "outputs": [
    {
     "data": {
      "text/plain": [
       "42"
      ]
     },
     "execution_count": 54,
     "metadata": {},
     "output_type": "execute_result"
    }
   ],
   "source": [
    "len(new[new['chirality'] =='No chiral center'])"
   ]
  },
  {
   "cell_type": "code",
   "execution_count": 55,
   "id": "05f319a6-3255-466d-8d46-7b04755924ae",
   "metadata": {},
   "outputs": [],
   "source": [
    "to_save = new[new['chirality'] =='S']\n",
    "to_save.to_excel('../Data/new_structures_S_chirality.xlsx')"
   ]
  },
  {
   "cell_type": "code",
   "execution_count": null,
   "id": "386699d7-142d-4a8c-8943-243f7f12359b",
   "metadata": {},
   "outputs": [],
   "source": []
  },
  {
   "cell_type": "code",
   "execution_count": 56,
   "id": "a1d2da26-364c-4ede-a96a-0de604443c5d",
   "metadata": {},
   "outputs": [
    {
     "name": "stdout",
     "output_type": "stream",
     "text": [
      "0 [(14, 'S')]\n",
      "1 [(14, 'S')]\n",
      "2 [(14, 'S')]\n",
      "3 [(14, 'S')]\n",
      "4 [(7, 'S')]\n",
      "5 [(9, 'S')]\n",
      "6 [(9, 'S')]\n",
      "7 [(4, 'S')]\n",
      "8 [(1, 'S')]\n",
      "9 [(5, 'S')]\n",
      "10 [(1, 'S')]\n",
      "11 [(1, 'R')]\n",
      "12 [(14, 'S')]\n",
      "13 [(14, 'S')]\n",
      "14 [(4, 'S')]\n",
      "15 [(11, 'S')]\n",
      "16 [(18, 'S')]\n",
      "17 [(18, 'S')]\n",
      "18 [(18, 'S')]\n",
      "19 [(13, 'S')]\n",
      "20 [(4, 'S')]\n",
      "21 [(19, 'S')]\n",
      "22 [(4, 'S')]\n",
      "23 [(10, 'S')]\n",
      "24 [(10, 'S')]\n",
      "25 [(4, 'S')]\n",
      "26 No chiral center\n",
      "27 [(14, 'S')]\n",
      "28 [(14, 'S')]\n",
      "29 [(14, 'S')]\n",
      "30 [(14, 'S')]\n",
      "31 [(13, 'S')]\n",
      "32 No chiral center\n",
      "33 [(5, 'S')]\n",
      "34 [(7, 'S')]\n",
      "35 [(13, 'S')]\n",
      "36 [(13, 'S')]\n",
      "37 [(24, 'S')]\n",
      "38 No chiral center\n",
      "39 [(14, 'S')]\n",
      "40 [(12, 'S')]\n",
      "41 [(6, 'S')]\n",
      "42 [(11, 'S')]\n",
      "43 No chiral center\n",
      "44 [(1, 'S')]\n",
      "45 No chiral center\n",
      "46 No chiral center\n",
      "47 No chiral center\n",
      "48 [(9, 'S')]\n",
      "49 [(12, 'S')]\n",
      "50 [(9, 'S')]\n",
      "51 [(13, 'S')]\n",
      "52 [(13, 'S')]\n",
      "53 [(10, 'S')]\n",
      "54 [(8, 'S')]\n",
      "55 No chiral center\n",
      "56 No chiral center\n",
      "57 No chiral center\n",
      "58 [(12, 'R')]\n",
      "59 No chiral center\n",
      "60 [(16, 'S')]\n",
      "61 [(1, 'S')]\n",
      "62 [(10, 'S')]\n",
      "63 [(3, 'S')]\n",
      "64 [(14, 'S')]\n",
      "65 [(3, 'S')]\n",
      "66 [(12, 'S')]\n",
      "67 [(9, 'S')]\n",
      "68 [(7, 'S')]\n",
      "69 [(27, 'S')]\n",
      "70 [(7, 'S')]\n",
      "71 No chiral center\n",
      "72 [(9, 'S')]\n",
      "73 [(18, 'S')]\n",
      "74 [(9, 'S')]\n",
      "75 No chiral center\n",
      "76 [(18, 'S')]\n",
      "77 [(14, 'S')]\n",
      "78 [(14, 'S')]\n",
      "79 [(11, 'S')]\n",
      "80 [(9, 'S')]\n",
      "81 [(12, 'S')]\n",
      "82 [(13, 'S')]\n",
      "83 [(11, 'S')]\n",
      "84 [(11, 'S')]\n",
      "85 [(10, 'S')]\n",
      "86 [(12, 'S')]\n",
      "87 [(20, 'S')]\n",
      "88 [(11, 'S')]\n",
      "89 [(15, 'S')]\n",
      "90 [(13, 'S')]\n",
      "91 [(20, 'S')]\n",
      "92 [(20, 'S')]\n",
      "93 No chiral center\n",
      "94 [(5, 'S')]\n",
      "95 No chiral center\n",
      "96 [(14, 'S')]\n",
      "97 [(7, 'R')]\n",
      "98 [(6, 'S')]\n",
      "99 [(2, 'S')]\n",
      "100 [(10, 'S')]\n",
      "101 [(10, 'S')]\n",
      "102 [(8, 'S')]\n",
      "103 [(8, 'S')]\n",
      "104 [(1, 'S')]\n",
      "105 [(1, 'S')]\n",
      "106 No chiral center\n",
      "107 No chiral center\n",
      "108 [(6, 'S')]\n",
      "109 [(6, 'S')]\n",
      "110 [(1, 'S')]\n",
      "111 [(1, 'S')]\n",
      "112 [(3, 'S')]\n",
      "113 No chiral center\n",
      "114 [(6, 'S')]\n",
      "115 [(3, 'S')]\n",
      "116 [(3, 'S')]\n",
      "117 [(14, 'S')]\n",
      "118 [(14, 'S')]\n",
      "119 [(5, 'S')]\n",
      "120 No chiral center\n",
      "121 [(1, 'S')]\n",
      "122 [(1, 'S')]\n",
      "123 [(8, 'S')]\n",
      "124 No chiral center\n",
      "125 [(11, 'S')]\n",
      "126 No chiral center\n",
      "127 [(4, 'S')]\n",
      "128 [(5, 'S')]\n",
      "129 [(8, 'S')]\n",
      "130 [(1, 'R')]\n",
      "131 [(6, 'S')]\n",
      "132 [(6, 'S')]\n",
      "133 No chiral center\n",
      "134 [(8, 'S')]\n",
      "135 [(1, 'S')]\n",
      "136 [(6, 'S')]\n",
      "137 [(1, 'S')]\n",
      "138 [(1, 'S')]\n",
      "139 [(1, 'S')]\n",
      "140 [(7, 'S')]\n",
      "141 [(13, 'S')]\n",
      "142 [(7, 'S')]\n",
      "143 [(3, 'S')]\n",
      "144 [(14, 'S')]\n",
      "145 [(6, 'S')]\n",
      "146 [(14, 'S')]\n",
      "147 [(10, 'S')]\n",
      "148 [(18, 'S')]\n",
      "149 [(14, 'S')]\n",
      "150 [(6, 'S')]\n",
      "151 [(5, 'S')]\n",
      "152 [(6, 'S')]\n",
      "153 No chiral center\n",
      "154 [(3, 'S')]\n",
      "155 [(14, 'S')]\n",
      "156 [(13, 'S')]\n",
      "157 [(23, 'S')]\n",
      "158 [(7, 'S')]\n",
      "159 [(8, 'S')]\n",
      "160 [(8, 'S')]\n",
      "161 [(9, 'S')]\n",
      "162 [(9, 'S')]\n",
      "163 [(7, 'S')]\n",
      "164 [(23, 'S')]\n",
      "165 [(8, 'S')]\n",
      "166 [(7, 'S')]\n",
      "167 [(8, 'S')]\n",
      "168 [(7, 'S')]\n",
      "169 No chiral center\n",
      "170 [(14, 'S')]\n",
      "171 [(7, 'S')]\n",
      "172 [(10, 'S')]\n",
      "173 [(2, 'S')]\n",
      "174 [(18, 'S')]\n",
      "175 [(24, 'S')]\n",
      "176 [(18, 'S')]\n",
      "177 [(19, 'S')]\n",
      "178 [(5, 'S')]\n",
      "179 [(13, 'S')]\n",
      "180 [(13, 'S')]\n",
      "181 [(20, 'S')]\n",
      "182 [(23, 'S')]\n",
      "183 [(10, 'S')]\n",
      "184 [(17, 'S')]\n",
      "185 [(4, 'S')]\n",
      "186 [(4, 'S')]\n",
      "187 [(8, 'S')]\n",
      "188 [(5, 'S')]\n",
      "189 [(5, 'S')]\n",
      "190 [(11, 'S')]\n",
      "191 [(8, 'S')]\n",
      "192 [(6, 'S')]\n",
      "193 [(6, 'S')]\n",
      "194 [(12, 'S')]\n",
      "195 [(4, 'S')]\n",
      "196 [(22, 'S')]\n",
      "197 [(4, 'S')]\n",
      "198 [(4, 'S')]\n",
      "199 No chiral center\n",
      "200 [(14, 'S')]\n",
      "201 [(1, 'S')]\n",
      "202 [(7, 'S')]\n",
      "203 [(7, 'S')]\n",
      "204 [(5, 'S')]\n",
      "205 [(1, 'S')]\n",
      "206 [(23, 'S')]\n",
      "207 [(13, 'S')]\n",
      "208 [(13, 'S')]\n",
      "209 [(5, 'S')]\n",
      "210 No chiral center\n",
      "211 [(10, 'S')]\n",
      "212 [(7, 'S')]\n",
      "213 No chiral center\n",
      "214 [(12, 'S')]\n",
      "215 [(1, 'S')]\n",
      "216 [(11, 'S')]\n",
      "217 No chiral center\n",
      "218 No chiral center\n",
      "219 [(1, 'S')]\n",
      "220 [(8, 'S')]\n",
      "221 [(11, 'S')]\n",
      "222 [(9, 'S')]\n",
      "223 No chiral center\n",
      "224 [(9, 'S')]\n",
      "225 [(9, 'S')]\n",
      "226 [(13, 'S')]\n",
      "227 [(13, 'S')]\n",
      "228 [(13, 'S')]\n",
      "229 [(12, 'S')]\n",
      "230 [(12, 'S')]\n",
      "231 [(4, 'S')]\n",
      "232 [(9, 'S')]\n",
      "233 [(10, 'S')]\n",
      "234 [(11, 'S')]\n",
      "235 [(12, 'S')]\n",
      "236 [(14, 'S')]\n",
      "237 [(9, 'S')]\n",
      "238 [(11, 'S')]\n",
      "239 [(13, 'S')]\n",
      "240 [(11, 'S')]\n",
      "241 [(7, 'S')]\n",
      "242 [(10, 'R')]\n",
      "243 [(10, 'S')]\n",
      "244 [(10, 'S')]\n",
      "245 [(12, 'S')]\n",
      "246 [(10, 'S')]\n",
      "247 [(7, 'S')]\n",
      "248 [(15, 'S')]\n",
      "249 [(7, 'S')]\n",
      "250 No chiral center\n",
      "251 No chiral center\n",
      "252 [(9, 'S')]\n",
      "253 [(18, 'S')]\n",
      "254 No chiral center\n",
      "255 [(9, 'S')]\n",
      "256 [(10, 'S')]\n",
      "257 [(7, 'S')]\n",
      "258 [(14, 'S')]\n",
      "259 [(3, 'S')]\n",
      "260 [(3, 'S')]\n",
      "261 [(3, 'S')]\n",
      "262 [(11, 'S')]\n",
      "263 No chiral center\n",
      "264 [(8, 'S')]\n",
      "265 [(13, 'R'), (18, 'S')]\n",
      "266 [(14, 'S')]\n",
      "267 No chiral center\n",
      "268 [(10, 'S')]\n",
      "269 [(13, 'S')]\n",
      "270 [(20, 'S')]\n",
      "271 No chiral center\n",
      "272 [(1, 'S')]\n",
      "273 No chiral center\n",
      "274 No chiral center\n",
      "275 [(14, 'S')]\n",
      "276 [(14, 'S')]\n",
      "277 [(14, 'S')]\n",
      "278 [(15, 'S')]\n",
      "279 [(8, 'S')]\n",
      "280 [(7, 'S')]\n",
      "281 [(5, 'S')]\n",
      "282 [(24, 'S')]\n",
      "283 [(16, 'S')]\n",
      "284 [(6, 'S')]\n",
      "285 [(7, 'S')]\n",
      "286 [(10, 'S')]\n",
      "287 [(10, 'S')]\n",
      "288 No chiral center\n",
      "289 No chiral center\n",
      "290 [(8, 'S')]\n",
      "291 [(16, 'S')]\n",
      "292 [(11, 'S')]\n",
      "293 [(14, 'S')]\n",
      "294 [(1, 'S')]\n",
      "295 [(3, 'S')]\n",
      "296 [(3, 'S')]\n",
      "297 [(1, 'S')]\n",
      "298 [(3, 'S')]\n",
      "299 [(4, 'S')]\n",
      "300 [(11, 'S')]\n",
      "301 [(1, 'S')]\n",
      "302 [(1, 'S')]\n",
      "303 [(10, 'S')]\n",
      "304 [(13, 'S')]\n",
      "305 [(1, 'R')]\n",
      "306 No chiral center\n",
      "307 [(5, 'S')]\n",
      "308 [(1, 'S')]\n",
      "309 [(10, 'S')]\n",
      "310 [(16, 'S')]\n",
      "311 [(4, 'S')]\n",
      "312 [(1, 'S')]\n",
      "313 [(9, 'S')]\n",
      "314 No chiral center\n",
      "315 [(21, 'S')]\n",
      "316 [(4, 'S')]\n",
      "317 [(4, 'S')]\n",
      "318 [(4, 'S')]\n",
      "319 [(6, 'S')]\n",
      "320 [(7, 'S')]\n",
      "321 [(1, 'S')]\n",
      "322 [(1, 'R')]\n",
      "323 [(1, 'S')]\n",
      "324 [(25, 'S')]\n",
      "325 [(20, 'S')]\n",
      "326 [(5, 'S')]\n",
      "327 [(10, 'S')]\n",
      "328 [(7, 'S')]\n",
      "329 [(16, 'S')]\n",
      "330 [(1, 'S')]\n",
      "331 [(8, 'S')]\n",
      "332 [(10, 'S')]\n",
      "333 [(10, 'S')]\n",
      "334 [(17, 'S')]\n"
     ]
    }
   ],
   "source": [
    "for i, smiles in enumerate(new['SMILES']):\n",
    "    mol = Chem.MolFromSmiles(smiles)\n",
    "    \n",
    "    chiral = Chem.FindMolChiralCenters(mol)\n",
    "    if len(chiral) > 0:\n",
    "        \n",
    "        print(i, chiral)\n",
    "    else:\n",
    "        print(i, 'No chiral center')"
   ]
  },
  {
   "cell_type": "code",
   "execution_count": null,
   "id": "a25042e1-9e26-4795-af9e-9d6b730dfd5a",
   "metadata": {},
   "outputs": [],
   "source": []
  },
  {
   "cell_type": "code",
   "execution_count": null,
   "id": "b7d71675-2103-46cc-8aa4-00ab35c9cb70",
   "metadata": {},
   "outputs": [],
   "source": []
  }
 ],
 "metadata": {
  "kernelspec": {
   "display_name": "Python 3 (ipykernel)",
   "language": "python",
   "name": "python3"
  },
  "language_info": {
   "codemirror_mode": {
    "name": "ipython",
    "version": 3
   },
   "file_extension": ".py",
   "mimetype": "text/x-python",
   "name": "python",
   "nbconvert_exporter": "python",
   "pygments_lexer": "ipython3",
   "version": "3.9.15"
  }
 },
 "nbformat": 4,
 "nbformat_minor": 5
}
